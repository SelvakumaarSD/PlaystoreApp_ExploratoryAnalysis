{
 "cells": [
  {
   "cell_type": "code",
   "execution_count": 2,
   "metadata": {},
   "outputs": [
    {
     "data": {
      "text/html": [
       "        <script type=\"text/javascript\">\n",
       "        window.PlotlyConfig = {MathJaxConfig: 'local'};\n",
       "        if (window.MathJax) {MathJax.Hub.Config({SVG: {font: \"STIX-Web\"}});}\n",
       "        if (typeof require !== 'undefined') {\n",
       "        require.undef(\"plotly\");\n",
       "        requirejs.config({\n",
       "            paths: {\n",
       "                'plotly': ['https://cdn.plot.ly/plotly-latest.min']\n",
       "            }\n",
       "        });\n",
       "        require(['plotly'], function(Plotly) {\n",
       "            window._Plotly = Plotly;\n",
       "        });\n",
       "        }\n",
       "        </script>\n",
       "        "
      ]
     },
     "metadata": {},
     "output_type": "display_data"
    }
   ],
   "source": [
    "# Read in dataset\n",
    "import pandas as pd\n",
    "import numpy as np\n",
    "import matplotlib.pyplot as plt\n",
    "%matplotlib inline\n",
    "import seaborn as sns\n",
    "sns.set_style(\"darkgrid\")\n",
    "import warnings\n",
    "warnings.filterwarnings(\"ignore\")\n",
    "import plotly\n",
    "plotly.offline.init_notebook_mode(connected=True)\n",
    "import plotly.graph_objs as go"
   ]
  },
  {
   "cell_type": "code",
   "execution_count": 3,
   "metadata": {},
   "outputs": [
    {
     "name": "stdout",
     "output_type": "stream",
     "text": [
      "Total number of apps in the dataset =  602\n",
      "<class 'pandas.core.frame.DataFrame'>\n",
      "Int64Index: 602 entries, 0 to 601\n",
      "Data columns (total 18 columns):\n",
      " #   Column         Non-Null Count  Dtype         \n",
      "---  ------         --------------  -----         \n",
      " 0   title          602 non-null    object        \n",
      " 1   description    602 non-null    object        \n",
      " 2   installs       602 non-null    object        \n",
      " 3   ratings        457 non-null    float64       \n",
      " 4   score          600 non-null    float64       \n",
      " 5   reviews        600 non-null    float64       \n",
      " 6   genre          602 non-null    object        \n",
      " 7   containsAds    602 non-null    bool          \n",
      " 8   appId          602 non-null    object        \n",
      " 9   released       599 non-null    datetime64[ns]\n",
      " 10  contentRating  602 non-null    object        \n",
      " 11  free           602 non-null    bool          \n",
      " 12  price          602 non-null    float64       \n",
      " 13  currency       602 non-null    object        \n",
      " 14  size           565 non-null    object        \n",
      " 15  developer      602 non-null    object        \n",
      " 16  url            602 non-null    object        \n",
      " 17  year           599 non-null    float64       \n",
      "dtypes: bool(2), datetime64[ns](1), float64(5), object(10)\n",
      "memory usage: 81.1+ KB\n",
      "None\n"
     ]
    },
    {
     "data": {
      "text/html": [
       "<div>\n",
       "<style scoped>\n",
       "    .dataframe tbody tr th:only-of-type {\n",
       "        vertical-align: middle;\n",
       "    }\n",
       "\n",
       "    .dataframe tbody tr th {\n",
       "        vertical-align: top;\n",
       "    }\n",
       "\n",
       "    .dataframe thead th {\n",
       "        text-align: right;\n",
       "    }\n",
       "</style>\n",
       "<table border=\"1\" class=\"dataframe\">\n",
       "  <thead>\n",
       "    <tr style=\"text-align: right;\">\n",
       "      <th></th>\n",
       "      <th>title</th>\n",
       "      <th>description</th>\n",
       "      <th>installs</th>\n",
       "      <th>ratings</th>\n",
       "      <th>score</th>\n",
       "      <th>reviews</th>\n",
       "      <th>genre</th>\n",
       "      <th>containsAds</th>\n",
       "      <th>appId</th>\n",
       "      <th>released</th>\n",
       "      <th>contentRating</th>\n",
       "      <th>free</th>\n",
       "      <th>price</th>\n",
       "      <th>currency</th>\n",
       "      <th>size</th>\n",
       "      <th>developer</th>\n",
       "      <th>url</th>\n",
       "      <th>year</th>\n",
       "    </tr>\n",
       "  </thead>\n",
       "  <tbody>\n",
       "    <tr>\n",
       "      <th>345</th>\n",
       "      <td>Medical Formulas</td>\n",
       "      <td>Medical Formulas provides an intuitive access ...</td>\n",
       "      <td>100,000+</td>\n",
       "      <td>1355.0</td>\n",
       "      <td>4.07</td>\n",
       "      <td>220.0</td>\n",
       "      <td>Medical</td>\n",
       "      <td>True</td>\n",
       "      <td>com.sanapps.formulasmedicas</td>\n",
       "      <td>2014-08-20</td>\n",
       "      <td>Everyone 10+</td>\n",
       "      <td>True</td>\n",
       "      <td>0.0</td>\n",
       "      <td>USD</td>\n",
       "      <td>4.4M</td>\n",
       "      <td>Sanapps Dev</td>\n",
       "      <td>https://play.google.com/store/apps/details?id=...</td>\n",
       "      <td>2014.0</td>\n",
       "    </tr>\n",
       "    <tr>\n",
       "      <th>460</th>\n",
       "      <td>Al-Anon Family Groups</td>\n",
       "      <td>Al‑Anon Family Groups is a mutual support prog...</td>\n",
       "      <td>5,000+</td>\n",
       "      <td>83.0</td>\n",
       "      <td>2.27</td>\n",
       "      <td>69.0</td>\n",
       "      <td>Communication</td>\n",
       "      <td>False</td>\n",
       "      <td>org.alanon.meetings</td>\n",
       "      <td>2020-07-08</td>\n",
       "      <td>Teen</td>\n",
       "      <td>True</td>\n",
       "      <td>0.0</td>\n",
       "      <td>USD</td>\n",
       "      <td>94M</td>\n",
       "      <td>Al-Anon Family Group Headquarters Inc</td>\n",
       "      <td>https://play.google.com/store/apps/details?id=...</td>\n",
       "      <td>2020.0</td>\n",
       "    </tr>\n",
       "    <tr>\n",
       "      <th>484</th>\n",
       "      <td>DBT Coach: (Dialectical Behavior Therapy app)</td>\n",
       "      <td>This is the most comprehensive DBT app that ex...</td>\n",
       "      <td>50,000+</td>\n",
       "      <td>1718.0</td>\n",
       "      <td>4.90</td>\n",
       "      <td>338.0</td>\n",
       "      <td>Health &amp; Fitness</td>\n",
       "      <td>False</td>\n",
       "      <td>co.swasth.dbtcoach</td>\n",
       "      <td>2019-02-25</td>\n",
       "      <td>Everyone</td>\n",
       "      <td>True</td>\n",
       "      <td>0.0</td>\n",
       "      <td>USD</td>\n",
       "      <td>41M</td>\n",
       "      <td>Swasth Inc.</td>\n",
       "      <td>https://play.google.com/store/apps/details?id=...</td>\n",
       "      <td>2019.0</td>\n",
       "    </tr>\n",
       "    <tr>\n",
       "      <th>328</th>\n",
       "      <td>AA Speakers Free (Alcoholics) - AA Audio Tapes</td>\n",
       "      <td>The AA speakers app allows you to listen to re...</td>\n",
       "      <td>100,000+</td>\n",
       "      <td>1890.0</td>\n",
       "      <td>4.74</td>\n",
       "      <td>817.0</td>\n",
       "      <td>Lifestyle</td>\n",
       "      <td>True</td>\n",
       "      <td>com.marnistek.aaspeakersfree</td>\n",
       "      <td>2014-10-15</td>\n",
       "      <td>Teen</td>\n",
       "      <td>True</td>\n",
       "      <td>0.0</td>\n",
       "      <td>USD</td>\n",
       "      <td>NaN</td>\n",
       "      <td>Marnistek</td>\n",
       "      <td>https://play.google.com/store/apps/details?id=...</td>\n",
       "      <td>2014.0</td>\n",
       "    </tr>\n",
       "    <tr>\n",
       "      <th>306</th>\n",
       "      <td>IBM Micromedex Drug Ref</td>\n",
       "      <td>IBM Micromedex® Drug Reference is included fre...</td>\n",
       "      <td>100,000+</td>\n",
       "      <td>1563.0</td>\n",
       "      <td>4.28</td>\n",
       "      <td>379.0</td>\n",
       "      <td>Medical</td>\n",
       "      <td>False</td>\n",
       "      <td>com.truven.druginfonative.customer</td>\n",
       "      <td>2014-05-28</td>\n",
       "      <td>Everyone</td>\n",
       "      <td>True</td>\n",
       "      <td>0.0</td>\n",
       "      <td>USD</td>\n",
       "      <td>17M</td>\n",
       "      <td>Mobile Micromedex</td>\n",
       "      <td>https://play.google.com/store/apps/details?id=...</td>\n",
       "      <td>2014.0</td>\n",
       "    </tr>\n",
       "  </tbody>\n",
       "</table>\n",
       "</div>"
      ],
      "text/plain": [
       "                                              title  \\\n",
       "345                                Medical Formulas   \n",
       "460                           Al-Anon Family Groups   \n",
       "484   DBT Coach: (Dialectical Behavior Therapy app)   \n",
       "328  AA Speakers Free (Alcoholics) - AA Audio Tapes   \n",
       "306                         IBM Micromedex Drug Ref   \n",
       "\n",
       "                                           description  installs  ratings  \\\n",
       "345  Medical Formulas provides an intuitive access ...  100,000+   1355.0   \n",
       "460  Al‑Anon Family Groups is a mutual support prog...    5,000+     83.0   \n",
       "484  This is the most comprehensive DBT app that ex...   50,000+   1718.0   \n",
       "328  The AA speakers app allows you to listen to re...  100,000+   1890.0   \n",
       "306  IBM Micromedex® Drug Reference is included fre...  100,000+   1563.0   \n",
       "\n",
       "     score  reviews             genre  containsAds  \\\n",
       "345   4.07    220.0           Medical         True   \n",
       "460   2.27     69.0     Communication        False   \n",
       "484   4.90    338.0  Health & Fitness        False   \n",
       "328   4.74    817.0         Lifestyle         True   \n",
       "306   4.28    379.0           Medical        False   \n",
       "\n",
       "                                  appId   released contentRating  free  price  \\\n",
       "345         com.sanapps.formulasmedicas 2014-08-20  Everyone 10+  True    0.0   \n",
       "460                 org.alanon.meetings 2020-07-08          Teen  True    0.0   \n",
       "484                  co.swasth.dbtcoach 2019-02-25      Everyone  True    0.0   \n",
       "328        com.marnistek.aaspeakersfree 2014-10-15          Teen  True    0.0   \n",
       "306  com.truven.druginfonative.customer 2014-05-28      Everyone  True    0.0   \n",
       "\n",
       "    currency  size                              developer  \\\n",
       "345      USD  4.4M                            Sanapps Dev   \n",
       "460      USD   94M  Al-Anon Family Group Headquarters Inc   \n",
       "484      USD   41M                            Swasth Inc.   \n",
       "328      USD   NaN                              Marnistek   \n",
       "306      USD   17M                      Mobile Micromedex   \n",
       "\n",
       "                                                   url    year  \n",
       "345  https://play.google.com/store/apps/details?id=...  2014.0  \n",
       "460  https://play.google.com/store/apps/details?id=...  2020.0  \n",
       "484  https://play.google.com/store/apps/details?id=...  2019.0  \n",
       "328  https://play.google.com/store/apps/details?id=...  2014.0  \n",
       "306  https://play.google.com/store/apps/details?id=...  2014.0  "
      ]
     },
     "execution_count": 3,
     "metadata": {},
     "output_type": "execute_result"
    }
   ],
   "source": [
    "apps_with_duplicates = pd.read_csv('appdetails/App_Details_new.csv')\n",
    "\n",
    "# Drop duplicates\n",
    "apps = apps_with_duplicates.drop_duplicates()\n",
    "apps['released'] = pd.to_datetime(apps['released'])\n",
    "apps['year'] = pd.DatetimeIndex(apps['released']).year\n",
    "\n",
    "# Print the total number of apps\n",
    "print('Total number of apps in the dataset = ', len(apps.index))\n",
    "\n",
    "# Print a concise summary of apps dataframe\n",
    "print(apps.info())\n",
    "\n",
    "# Have a look at a random sample of n rows\n",
    "n = 5\n",
    "apps.sample(n)"
   ]
  },
  {
   "cell_type": "code",
   "execution_count": 4,
   "metadata": {},
   "outputs": [],
   "source": [
    "# List of characters to remove\n",
    "chars_to_remove = ['+', ',', '$','nan','M','NaN']\n",
    "# List of column names to clean\n",
    "cols_to_clean = ['installs','price','size','ratings','reviews','score']\n",
    "\n",
    "# Loop for each column\n",
    "for col in cols_to_clean:\n",
    "    # Replace each character with an empty string\n",
    "    for char in chars_to_remove:\n",
    "        apps[col] = apps[col].astype(str).str.replace(char, '')\n",
    "    # Convert col to numeric\n",
    "    apps[col] = pd.to_numeric(apps[col])"
   ]
  },
  {
   "cell_type": "code",
   "execution_count": 5,
   "metadata": {},
   "outputs": [
    {
     "data": {
      "image/png": "[encoded data removed]",
      "text/plain": [
       "<Figure size 720x432 with 1 Axes>"
      ]
     },
     "metadata": {},
     "output_type": "display_data"
    }
   ],
   "source": [
    "plt.figure(figsize=(10,6))\n",
    "count = apps.groupby(['year']).size()\n",
    "ax = count.plot.line()\n",
    "\n",
    "for i, j in count.items():\n",
    "    ax.annotate(str(j), xy=(i, j))\n",
    "        \n",
    "plt.title('Apps growth over time', fontsize=14)\n",
    "plt.xlabel('Year', fontsize=11)\n",
    "plt.ylabel('Number of Apps', fontsize=11)\n",
    "plt.show()"
   ]
  },
  {
   "cell_type": "code",
   "execution_count": 6,
   "metadata": {},
   "outputs": [
    {
     "name": "stdout",
     "output_type": "stream",
     "text": [
      "Number of categories =  14\n"
     ]
    },
    {
     "data": {
      "application/vnd.plotly.v1+json": {
       "config": {
        "linkText": "Export to plot.ly",
        "plotlyServerURL": "https://plot.ly",
        "showLink": false
       },
       "data": [
        {
         "type": "bar",
         "x": [
          "Health & Fitness",
          "Medical",
          "Lifestyle",
          "Education",
          "Books & Reference",
          "Productivity",
          "News & Magazines",
          "Simulation",
          "Communication",
          "Entertainment",
          "Social",
          "Tools",
          "Events",
          "House & Home"
         ],
         "y": [
          218,
          176,
          74,
          55,
          33,
          15,
          7,
          6,
          6,
          5,
          3,
          2,
          1,
          1
         ]
        }
       ],
       "layout": {
        "template": {
         "data": {
          "bar": [
           {
            "error_x": {
             "color": "#2a3f5f"
            },
            "error_y": {
             "color": "#2a3f5f"
            },
            "marker": {
             "line": {
              "color": "#E5ECF6",
              "width": 0.5
             }
            },
            "type": "bar"
           }
          ],
          "barpolar": [
           {
            "marker": {
             "line": {
              "color": "#E5ECF6",
              "width": 0.5
             }
            },
            "type": "barpolar"
           }
          ],
          "carpet": [
           {
            "aaxis": {
             "endlinecolor": "#2a3f5f",
             "gridcolor": "white",
             "linecolor": "white",
             "minorgridcolor": "white",
             "startlinecolor": "#2a3f5f"
            },
            "baxis": {
             "endlinecolor": "#2a3f5f",
             "gridcolor": "white",
             "linecolor": "white",
             "minorgridcolor": "white",
             "startlinecolor": "#2a3f5f"
            },
            "type": "carpet"
           }
          ],
          "choropleth": [
           {
            "colorbar": {
             "outlinewidth": 0,
             "ticks": ""
            },
            "type": "choropleth"
           }
          ],
          "contour": [
           {
            "colorbar": {
             "outlinewidth": 0,
             "ticks": ""
            },
            "colorscale": [
             [
              0,
              "#0d0887"
             ],
             [
              0.1111111111111111,
              "#46039f"
             ],
             [
              0.2222222222222222,
              "#7201a8"
             ],
             [
              0.3333333333333333,
              "#9c179e"
             ],
             [
              0.4444444444444444,
              "#bd3786"
             ],
             [
              0.5555555555555556,
              "#d8576b"
             ],
             [
              0.6666666666666666,
              "#ed7953"
             ],
             [
              0.7777777777777778,
              "#fb9f3a"
             ],
             [
              0.8888888888888888,
              "#fdca26"
             ],
             [
              1,
              "#f0f921"
             ]
            ],
            "type": "contour"
           }
          ],
          "contourcarpet": [
           {
            "colorbar": {
             "outlinewidth": 0,
             "ticks": ""
            },
            "type": "contourcarpet"
           }
          ],
          "heatmap": [
           {
            "colorbar": {
             "outlinewidth": 0,
             "ticks": ""
            },
            "colorscale": [
             [
              0,
              "#0d0887"
             ],
             [
              0.1111111111111111,
              "#46039f"
             ],
             [
              0.2222222222222222,
              "#7201a8"
             ],
             [
              0.3333333333333333,
              "#9c179e"
             ],
             [
              0.4444444444444444,
              "#bd3786"
             ],
             [
              0.5555555555555556,
              "#d8576b"
             ],
             [
              0.6666666666666666,
              "#ed7953"
             ],
             [
              0.7777777777777778,
              "#fb9f3a"
             ],
             [
              0.8888888888888888,
              "#fdca26"
             ],
             [
              1,
              "#f0f921"
             ]
            ],
            "type": "heatmap"
           }
          ],
          "heatmapgl": [
           {
            "colorbar": {
             "outlinewidth": 0,
             "ticks": ""
            },
            "colorscale": [
             [
              0,
              "#0d0887"
             ],
             [
              0.1111111111111111,
              "#46039f"
             ],
             [
              0.2222222222222222,
              "#7201a8"
             ],
             [
              0.3333333333333333,
              "#9c179e"
             ],
             [
              0.4444444444444444,
              "#bd3786"
             ],
             [
              0.5555555555555556,
              "#d8576b"
             ],
             [
              0.6666666666666666,
              "#ed7953"
             ],
             [
              0.7777777777777778,
              "#fb9f3a"
             ],
             [
              0.8888888888888888,
              "#fdca26"
             ],
             [
              1,
              "#f0f921"
             ]
            ],
            "type": "heatmapgl"
           }
          ],
          "histogram": [
           {
            "marker": {
             "colorbar": {
              "outlinewidth": 0,
              "ticks": ""
             }
            },
            "type": "histogram"
           }
          ],
          "histogram2d": [
           {
            "colorbar": {
             "outlinewidth": 0,
             "ticks": ""
            },
            "colorscale": [
             [
              0,
              "#0d0887"
             ],
             [
              0.1111111111111111,
              "#46039f"
             ],
             [
              0.2222222222222222,
              "#7201a8"
             ],
             [
              0.3333333333333333,
              "#9c179e"
             ],
             [
              0.4444444444444444,
              "#bd3786"
             ],
             [
              0.5555555555555556,
              "#d8576b"
             ],
             [
              0.6666666666666666,
              "#ed7953"
             ],
             [
              0.7777777777777778,
              "#fb9f3a"
             ],
             [
              0.8888888888888888,
              "#fdca26"
             ],
             [
              1,
              "#f0f921"
             ]
            ],
            "type": "histogram2d"
           }
          ],
          "histogram2dcontour": [
           {
            "colorbar": {
             "outlinewidth": 0,
             "ticks": ""
            },
            "colorscale": [
             [
              0,
              "#0d0887"
             ],
             [
              0.1111111111111111,
              "#46039f"
             ],
             [
              0.2222222222222222,
              "#7201a8"
             ],
             [
              0.3333333333333333,
              "#9c179e"
             ],
             [
              0.4444444444444444,
              "#bd3786"
             ],
             [
              0.5555555555555556,
              "#d8576b"
             ],
             [
              0.6666666666666666,
              "#ed7953"
             ],
             [
              0.7777777777777778,
              "#fb9f3a"
             ],
             [
              0.8888888888888888,
              "#fdca26"
             ],
             [
              1,
              "#f0f921"
             ]
            ],
            "type": "histogram2dcontour"
           }
          ],
          "mesh3d": [
           {
            "colorbar": {
             "outlinewidth": 0,
             "ticks": ""
            },
            "type": "mesh3d"
           }
          ],
          "parcoords": [
           {
            "line": {
             "colorbar": {
              "outlinewidth": 0,
              "ticks": ""
             }
            },
            "type": "parcoords"
           }
          ],
          "pie": [
           {
            "automargin": true,
            "type": "pie"
           }
          ],
          "scatter": [
           {
            "marker": {
             "colorbar": {
              "outlinewidth": 0,
              "ticks": ""
             }
            },
            "type": "scatter"
           }
          ],
          "scatter3d": [
           {
            "line": {
             "colorbar": {
              "outlinewidth": 0,
              "ticks": ""
             }
            },
            "marker": {
             "colorbar": {
              "outlinewidth": 0,
              "ticks": ""
             }
            },
            "type": "scatter3d"
           }
          ],
          "scattercarpet": [
           {
            "marker": {
             "colorbar": {
              "outlinewidth": 0,
              "ticks": ""
             }
            },
            "type": "scattercarpet"
           }
          ],
          "scattergeo": [
           {
            "marker": {
             "colorbar": {
              "outlinewidth": 0,
              "ticks": ""
             }
            },
            "type": "scattergeo"
           }
          ],
          "scattergl": [
           {
            "marker": {
             "colorbar": {
              "outlinewidth": 0,
              "ticks": ""
             }
            },
            "type": "scattergl"
           }
          ],
          "scattermapbox": [
           {
            "marker": {
             "colorbar": {
              "outlinewidth": 0,
              "ticks": ""
             }
            },
            "type": "scattermapbox"
           }
          ],
          "scatterpolar": [
           {
            "marker": {
             "colorbar": {
              "outlinewidth": 0,
              "ticks": ""
             }
            },
            "type": "scatterpolar"
           }
          ],
          "scatterpolargl": [
           {
            "marker": {
             "colorbar": {
              "outlinewidth": 0,
              "ticks": ""
             }
            },
            "type": "scatterpolargl"
           }
          ],
          "scatterternary": [
           {
            "marker": {
             "colorbar": {
              "outlinewidth": 0,
              "ticks": ""
             }
            },
            "type": "scatterternary"
           }
          ],
          "surface": [
           {
            "colorbar": {
             "outlinewidth": 0,
             "ticks": ""
            },
            "colorscale": [
             [
              0,
              "#0d0887"
             ],
             [
              0.1111111111111111,
              "#46039f"
             ],
             [
              0.2222222222222222,
              "#7201a8"
             ],
             [
              0.3333333333333333,
              "#9c179e"
             ],
             [
              0.4444444444444444,
              "#bd3786"
             ],
             [
              0.5555555555555556,
              "#d8576b"
             ],
             [
              0.6666666666666666,
              "#ed7953"
             ],
             [
              0.7777777777777778,
              "#fb9f3a"
             ],
             [
              0.8888888888888888,
              "#fdca26"
             ],
             [
              1,
              "#f0f921"
             ]
            ],
            "type": "surface"
           }
          ],
          "table": [
           {
            "cells": {
             "fill": {
              "color": "#EBF0F8"
             },
             "line": {
              "color": "white"
             }
            },
            "header": {
             "fill": {
              "color": "#C8D4E3"
             },
             "line": {
              "color": "white"
             }
            },
            "type": "table"
           }
          ]
         },
         "layout": {
          "annotationdefaults": {
           "arrowcolor": "#2a3f5f",
           "arrowhead": 0,
           "arrowwidth": 1
          },
          "coloraxis": {
           "colorbar": {
            "outlinewidth": 0,
            "ticks": ""
           }
          },
          "colorscale": {
           "diverging": [
            [
             0,
             "#8e0152"
            ],
            [
             0.1,
             "#c51b7d"
            ],
            [
             0.2,
             "#de77ae"
            ],
            [
             0.3,
             "#f1b6da"
            ],
            [
             0.4,
             "#fde0ef"
            ],
            [
             0.5,
             "#f7f7f7"
            ],
            [
             0.6,
             "#e6f5d0"
            ],
            [
             0.7,
             "#b8e186"
            ],
            [
             0.8,
             "#7fbc41"
            ],
            [
             0.9,
             "#4d9221"
            ],
            [
             1,
             "#276419"
            ]
           ],
           "sequential": [
            [
             0,
             "#0d0887"
            ],
            [
             0.1111111111111111,
             "#46039f"
            ],
            [
             0.2222222222222222,
             "#7201a8"
            ],
            [
             0.3333333333333333,
             "#9c179e"
            ],
            [
             0.4444444444444444,
             "#bd3786"
            ],
            [
             0.5555555555555556,
             "#d8576b"
            ],
            [
             0.6666666666666666,
             "#ed7953"
            ],
            [
             0.7777777777777778,
             "#fb9f3a"
            ],
            [
             0.8888888888888888,
             "#fdca26"
            ],
            [
             1,
             "#f0f921"
            ]
           ],
           "sequentialminus": [
            [
             0,
             "#0d0887"
            ],
            [
             0.1111111111111111,
             "#46039f"
            ],
            [
             0.2222222222222222,
             "#7201a8"
            ],
            [
             0.3333333333333333,
             "#9c179e"
            ],
            [
             0.4444444444444444,
             "#bd3786"
            ],
            [
             0.5555555555555556,
             "#d8576b"
            ],
            [
             0.6666666666666666,
             "#ed7953"
            ],
            [
             0.7777777777777778,
             "#fb9f3a"
            ],
            [
             0.8888888888888888,
             "#fdca26"
            ],
            [
             1,
             "#f0f921"
            ]
           ]
          },
          "colorway": [
           "#636efa",
           "#EF553B",
           "#00cc96",
           "#ab63fa",
           "#FFA15A",
           "#19d3f3",
           "#FF6692",
           "#B6E880",
           "#FF97FF",
           "#FECB52"
          ],
          "font": {
           "color": "#2a3f5f"
          },
          "geo": {
           "bgcolor": "white",
           "lakecolor": "white",
           "landcolor": "#E5ECF6",
           "showlakes": true,
           "showland": true,
           "subunitcolor": "white"
          },
          "hoverlabel": {
           "align": "left"
          },
          "hovermode": "closest",
          "mapbox": {
           "style": "light"
          },
          "paper_bgcolor": "white",
          "plot_bgcolor": "#E5ECF6",
          "polar": {
           "angularaxis": {
            "gridcolor": "white",
            "linecolor": "white",
            "ticks": ""
           },
           "bgcolor": "#E5ECF6",
           "radialaxis": {
            "gridcolor": "white",
            "linecolor": "white",
            "ticks": ""
           }
          },
          "scene": {
           "xaxis": {
            "backgroundcolor": "#E5ECF6",
            "gridcolor": "white",
            "gridwidth": 2,
            "linecolor": "white",
            "showbackground": true,
            "ticks": "",
            "zerolinecolor": "white"
           },
           "yaxis": {
            "backgroundcolor": "#E5ECF6",
            "gridcolor": "white",
            "gridwidth": 2,
            "linecolor": "white",
            "showbackground": true,
            "ticks": "",
            "zerolinecolor": "white"
           },
           "zaxis": {
            "backgroundcolor": "#E5ECF6",
            "gridcolor": "white",
            "gridwidth": 2,
            "linecolor": "white",
            "showbackground": true,
            "ticks": "",
            "zerolinecolor": "white"
           }
          },
          "shapedefaults": {
           "line": {
            "color": "#2a3f5f"
           }
          },
          "ternary": {
           "aaxis": {
            "gridcolor": "white",
            "linecolor": "white",
            "ticks": ""
           },
           "baxis": {
            "gridcolor": "white",
            "linecolor": "white",
            "ticks": ""
           },
           "bgcolor": "#E5ECF6",
           "caxis": {
            "gridcolor": "white",
            "linecolor": "white",
            "ticks": ""
           }
          },
          "title": {
           "x": 0.05
          },
          "xaxis": {
           "automargin": true,
           "gridcolor": "white",
           "linecolor": "white",
           "ticks": "",
           "title": {
            "standoff": 15
           },
           "zerolinecolor": "white",
           "zerolinewidth": 2
          },
          "yaxis": {
           "automargin": true,
           "gridcolor": "white",
           "linecolor": "white",
           "ticks": "",
           "title": {
            "standoff": 15
           },
           "zerolinecolor": "white",
           "zerolinewidth": 2
          }
         }
        }
       }
      },
      "text/html": [
       "<div>                            <div id=\"63abbb6d-dedf-4ca9-9acf-cd923e740eff\" class=\"plotly-graph-div\" style=\"height:525px; width:100%;\"></div>            <script type=\"text/javascript\">                require([\"plotly\"], function(Plotly) {                    window.PLOTLYENV=window.PLOTLYENV || {};                                    if (document.getElementById(\"63abbb6d-dedf-4ca9-9acf-cd923e740eff\")) {                    Plotly.newPlot(                        \"63abbb6d-dedf-4ca9-9acf-cd923e740eff\",                        [{\"type\": \"bar\", \"x\": [\"Health & Fitness\", \"Medical\", \"Lifestyle\", \"Education\", \"Books & Reference\", \"Productivity\", \"News & Magazines\", \"Simulation\", \"Communication\", \"Entertainment\", \"Social\", \"Tools\", \"Events\", \"House & Home\"], \"y\": [218, 176, 74, 55, 33, 15, 7, 6, 6, 5, 3, 2, 1, 1]}],                        {\"template\": {\"data\": {\"bar\": [{\"error_x\": {\"color\": \"#2a3f5f\"}, \"error_y\": {\"color\": \"#2a3f5f\"}, \"marker\": {\"line\": {\"color\": \"#E5ECF6\", \"width\": 0.5}}, \"type\": \"bar\"}], \"barpolar\": [{\"marker\": {\"line\": {\"color\": \"#E5ECF6\", \"width\": 0.5}}, \"type\": \"barpolar\"}], \"carpet\": [{\"aaxis\": {\"endlinecolor\": \"#2a3f5f\", \"gridcolor\": \"white\", \"linecolor\": \"white\", \"minorgridcolor\": \"white\", \"startlinecolor\": \"#2a3f5f\"}, \"baxis\": {\"endlinecolor\": \"#2a3f5f\", \"gridcolor\": \"white\", \"linecolor\": \"white\", \"minorgridcolor\": \"white\", \"startlinecolor\": \"#2a3f5f\"}, \"type\": \"carpet\"}], \"choropleth\": [{\"colorbar\": {\"outlinewidth\": 0, \"ticks\": \"\"}, \"type\": \"choropleth\"}], \"contour\": [{\"colorbar\": {\"outlinewidth\": 0, \"ticks\": \"\"}, \"colorscale\": [[0.0, \"#0d0887\"], [0.1111111111111111, \"#46039f\"], [0.2222222222222222, \"#7201a8\"], [0.3333333333333333, \"#9c179e\"], [0.4444444444444444, \"#bd3786\"], [0.5555555555555556, \"#d8576b\"], [0.6666666666666666, \"#ed7953\"], [0.7777777777777778, \"#fb9f3a\"], [0.8888888888888888, \"#fdca26\"], [1.0, \"#f0f921\"]], \"type\": \"contour\"}], \"contourcarpet\": [{\"colorbar\": {\"outlinewidth\": 0, \"ticks\": \"\"}, \"type\": \"contourcarpet\"}], \"heatmap\": [{\"colorbar\": {\"outlinewidth\": 0, \"ticks\": \"\"}, \"colorscale\": [[0.0, \"#0d0887\"], [0.1111111111111111, \"#46039f\"], [0.2222222222222222, \"#7201a8\"], [0.3333333333333333, \"#9c179e\"], [0.4444444444444444, \"#bd3786\"], [0.5555555555555556, \"#d8576b\"], [0.6666666666666666, \"#ed7953\"], [0.7777777777777778, \"#fb9f3a\"], [0.8888888888888888, \"#fdca26\"], [1.0, \"#f0f921\"]], \"type\": \"heatmap\"}], \"heatmapgl\": [{\"colorbar\": {\"outlinewidth\": 0, \"ticks\": \"\"}, \"colorscale\": [[0.0, \"#0d0887\"], [0.1111111111111111, \"#46039f\"], [0.2222222222222222, \"#7201a8\"], [0.3333333333333333, \"#9c179e\"], [0.4444444444444444, \"#bd3786\"], [0.5555555555555556, \"#d8576b\"], [0.6666666666666666, \"#ed7953\"], [0.7777777777777778, \"#fb9f3a\"], [0.8888888888888888, \"#fdca26\"], [1.0, \"#f0f921\"]], \"type\": \"heatmapgl\"}], \"histogram\": [{\"marker\": {\"colorbar\": {\"outlinewidth\": 0, \"ticks\": \"\"}}, \"type\": \"histogram\"}], \"histogram2d\": [{\"colorbar\": {\"outlinewidth\": 0, \"ticks\": \"\"}, \"colorscale\": [[0.0, \"#0d0887\"], [0.1111111111111111, \"#46039f\"], [0.2222222222222222, \"#7201a8\"], [0.3333333333333333, \"#9c179e\"], [0.4444444444444444, \"#bd3786\"], [0.5555555555555556, \"#d8576b\"], [0.6666666666666666, \"#ed7953\"], [0.7777777777777778, \"#fb9f3a\"], [0.8888888888888888, \"#fdca26\"], [1.0, \"#f0f921\"]], \"type\": \"histogram2d\"}], \"histogram2dcontour\": [{\"colorbar\": {\"outlinewidth\": 0, \"ticks\": \"\"}, \"colorscale\": [[0.0, \"#0d0887\"], [0.1111111111111111, \"#46039f\"], [0.2222222222222222, \"#7201a8\"], [0.3333333333333333, \"#9c179e\"], [0.4444444444444444, \"#bd3786\"], [0.5555555555555556, \"#d8576b\"], [0.6666666666666666, \"#ed7953\"], [0.7777777777777778, \"#fb9f3a\"], [0.8888888888888888, \"#fdca26\"], [1.0, \"#f0f921\"]], \"type\": \"histogram2dcontour\"}], \"mesh3d\": [{\"colorbar\": {\"outlinewidth\": 0, \"ticks\": \"\"}, \"type\": \"mesh3d\"}], \"parcoords\": [{\"line\": {\"colorbar\": {\"outlinewidth\": 0, \"ticks\": \"\"}}, \"type\": \"parcoords\"}], \"pie\": [{\"automargin\": true, \"type\": \"pie\"}], \"scatter\": [{\"marker\": {\"colorbar\": {\"outlinewidth\": 0, \"ticks\": \"\"}}, \"type\": \"scatter\"}], \"scatter3d\": [{\"line\": {\"colorbar\": {\"outlinewidth\": 0, \"ticks\": \"\"}}, \"marker\": {\"colorbar\": {\"outlinewidth\": 0, \"ticks\": \"\"}}, \"type\": \"scatter3d\"}], \"scattercarpet\": [{\"marker\": {\"colorbar\": {\"outlinewidth\": 0, \"ticks\": \"\"}}, \"type\": \"scattercarpet\"}], \"scattergeo\": [{\"marker\": {\"colorbar\": {\"outlinewidth\": 0, \"ticks\": \"\"}}, \"type\": \"scattergeo\"}], \"scattergl\": [{\"marker\": {\"colorbar\": {\"outlinewidth\": 0, \"ticks\": \"\"}}, \"type\": \"scattergl\"}], \"scattermapbox\": [{\"marker\": {\"colorbar\": {\"outlinewidth\": 0, \"ticks\": \"\"}}, \"type\": \"scattermapbox\"}], \"scatterpolar\": [{\"marker\": {\"colorbar\": {\"outlinewidth\": 0, \"ticks\": \"\"}}, \"type\": \"scatterpolar\"}], \"scatterpolargl\": [{\"marker\": {\"colorbar\": {\"outlinewidth\": 0, \"ticks\": \"\"}}, \"type\": \"scatterpolargl\"}], \"scatterternary\": [{\"marker\": {\"colorbar\": {\"outlinewidth\": 0, \"ticks\": \"\"}}, \"type\": \"scatterternary\"}], \"surface\": [{\"colorbar\": {\"outlinewidth\": 0, \"ticks\": \"\"}, \"colorscale\": [[0.0, \"#0d0887\"], [0.1111111111111111, \"#46039f\"], [0.2222222222222222, \"#7201a8\"], [0.3333333333333333, \"#9c179e\"], [0.4444444444444444, \"#bd3786\"], [0.5555555555555556, \"#d8576b\"], [0.6666666666666666, \"#ed7953\"], [0.7777777777777778, \"#fb9f3a\"], [0.8888888888888888, \"#fdca26\"], [1.0, \"#f0f921\"]], \"type\": \"surface\"}], \"table\": [{\"cells\": {\"fill\": {\"color\": \"#EBF0F8\"}, \"line\": {\"color\": \"white\"}}, \"header\": {\"fill\": {\"color\": \"#C8D4E3\"}, \"line\": {\"color\": \"white\"}}, \"type\": \"table\"}]}, \"layout\": {\"annotationdefaults\": {\"arrowcolor\": \"#2a3f5f\", \"arrowhead\": 0, \"arrowwidth\": 1}, \"coloraxis\": {\"colorbar\": {\"outlinewidth\": 0, \"ticks\": \"\"}}, \"colorscale\": {\"diverging\": [[0, \"#8e0152\"], [0.1, \"#c51b7d\"], [0.2, \"#de77ae\"], [0.3, \"#f1b6da\"], [0.4, \"#fde0ef\"], [0.5, \"#f7f7f7\"], [0.6, \"#e6f5d0\"], [0.7, \"#b8e186\"], [0.8, \"#7fbc41\"], [0.9, \"#4d9221\"], [1, \"#276419\"]], \"sequential\": [[0.0, \"#0d0887\"], [0.1111111111111111, \"#46039f\"], [0.2222222222222222, \"#7201a8\"], [0.3333333333333333, \"#9c179e\"], [0.4444444444444444, \"#bd3786\"], [0.5555555555555556, \"#d8576b\"], [0.6666666666666666, \"#ed7953\"], [0.7777777777777778, \"#fb9f3a\"], [0.8888888888888888, \"#fdca26\"], [1.0, \"#f0f921\"]], \"sequentialminus\": [[0.0, \"#0d0887\"], [0.1111111111111111, \"#46039f\"], [0.2222222222222222, \"#7201a8\"], [0.3333333333333333, \"#9c179e\"], [0.4444444444444444, \"#bd3786\"], [0.5555555555555556, \"#d8576b\"], [0.6666666666666666, \"#ed7953\"], [0.7777777777777778, \"#fb9f3a\"], [0.8888888888888888, \"#fdca26\"], [1.0, \"#f0f921\"]]}, \"colorway\": [\"#636efa\", \"#EF553B\", \"#00cc96\", \"#ab63fa\", \"#FFA15A\", \"#19d3f3\", \"#FF6692\", \"#B6E880\", \"#FF97FF\", \"#FECB52\"], \"font\": {\"color\": \"#2a3f5f\"}, \"geo\": {\"bgcolor\": \"white\", \"lakecolor\": \"white\", \"landcolor\": \"#E5ECF6\", \"showlakes\": true, \"showland\": true, \"subunitcolor\": \"white\"}, \"hoverlabel\": {\"align\": \"left\"}, \"hovermode\": \"closest\", \"mapbox\": {\"style\": \"light\"}, \"paper_bgcolor\": \"white\", \"plot_bgcolor\": \"#E5ECF6\", \"polar\": {\"angularaxis\": {\"gridcolor\": \"white\", \"linecolor\": \"white\", \"ticks\": \"\"}, \"bgcolor\": \"#E5ECF6\", \"radialaxis\": {\"gridcolor\": \"white\", \"linecolor\": \"white\", \"ticks\": \"\"}}, \"scene\": {\"xaxis\": {\"backgroundcolor\": \"#E5ECF6\", \"gridcolor\": \"white\", \"gridwidth\": 2, \"linecolor\": \"white\", \"showbackground\": true, \"ticks\": \"\", \"zerolinecolor\": \"white\"}, \"yaxis\": {\"backgroundcolor\": \"#E5ECF6\", \"gridcolor\": \"white\", \"gridwidth\": 2, \"linecolor\": \"white\", \"showbackground\": true, \"ticks\": \"\", \"zerolinecolor\": \"white\"}, \"zaxis\": {\"backgroundcolor\": \"#E5ECF6\", \"gridcolor\": \"white\", \"gridwidth\": 2, \"linecolor\": \"white\", \"showbackground\": true, \"ticks\": \"\", \"zerolinecolor\": \"white\"}}, \"shapedefaults\": {\"line\": {\"color\": \"#2a3f5f\"}}, \"ternary\": {\"aaxis\": {\"gridcolor\": \"white\", \"linecolor\": \"white\", \"ticks\": \"\"}, \"baxis\": {\"gridcolor\": \"white\", \"linecolor\": \"white\", \"ticks\": \"\"}, \"bgcolor\": \"#E5ECF6\", \"caxis\": {\"gridcolor\": \"white\", \"linecolor\": \"white\", \"ticks\": \"\"}}, \"title\": {\"x\": 0.05}, \"xaxis\": {\"automargin\": true, \"gridcolor\": \"white\", \"linecolor\": \"white\", \"ticks\": \"\", \"title\": {\"standoff\": 15}, \"zerolinecolor\": \"white\", \"zerolinewidth\": 2}, \"yaxis\": {\"automargin\": true, \"gridcolor\": \"white\", \"linecolor\": \"white\", \"ticks\": \"\", \"title\": {\"standoff\": 15}, \"zerolinecolor\": \"white\", \"zerolinewidth\": 2}}}},                        {\"responsive\": true}                    ).then(function(){\n",
       "                            \n",
       "var gd = document.getElementById('63abbb6d-dedf-4ca9-9acf-cd923e740eff');\n",
       "var x = new MutationObserver(function (mutations, observer) {{\n",
       "        var display = window.getComputedStyle(gd).display;\n",
       "        if (!display || display === 'none') {{\n",
       "            console.log([gd, 'removed!']);\n",
       "            Plotly.purge(gd);\n",
       "            observer.disconnect();\n",
       "        }}\n",
       "}});\n",
       "\n",
       "// Listen for the removal of the full notebook cells\n",
       "var notebookContainer = gd.closest('#notebook-container');\n",
       "if (notebookContainer) {{\n",
       "    x.observe(notebookContainer, {childList: true});\n",
       "}}\n",
       "\n",
       "// Listen for the clearing of the current output cell\n",
       "var outputEl = gd.closest('.output');\n",
       "if (outputEl) {{\n",
       "    x.observe(outputEl, {childList: true});\n",
       "}}\n",
       "\n",
       "                        })                };                });            </script>        </div>"
      ]
     },
     "metadata": {},
     "output_type": "display_data"
    }
   ],
   "source": [
    "num_categories = len(apps['genre'].unique())\n",
    "print('Number of categories = ', num_categories)\n",
    "\n",
    "num_apps_in_category = apps['genre'].value_counts().sort_values(ascending = False)\n",
    "\n",
    "data = [go.Bar( x = num_apps_in_category.index, # index = category name \n",
    "               y = num_apps_in_category.values, # value = count \n",
    "              )]\n",
    "#data.update_traces(texttemplate='%{text:.2s}', textposition='outside')\n",
    "#data.update_layout(uniformtext_minsize=8, uniformtext_mode='hide')\n",
    "\n",
    "plotly.offline.iplot(data)"
   ]
  },
  {
   "cell_type": "code",
   "execution_count": 7,
   "metadata": {},
   "outputs": [
    {
     "name": "stdout",
     "output_type": "stream",
     "text": [
      "Average app rating =  3.2238166666666674\n"
     ]
    },
    {
     "data": {
      "application/vnd.plotly.v1+json": {
       "config": {
        "linkText": "Export to plot.ly",
        "plotlyServerURL": "https://plot.ly",
        "showLink": false
       },
       "data": [
        {
         "type": "histogram",
         "x": [
          0,
          0,
          0,
          0,
          4.75,
          4.22,
          4.61,
          4.22,
          4.75,
          4.41,
          4.36,
          4.56,
          4.42,
          4.75,
          4.67,
          4.57,
          4.44,
          4.24,
          4.58,
          4.6,
          4.52,
          3.86,
          2.83,
          0,
          3,
          0,
          3.57,
          4.09,
          4,
          4.47,
          4.76,
          4.2,
          4.43,
          4.76,
          4.04,
          3.67,
          0,
          4,
          4.85,
          4.11,
          4.75,
          0,
          4.84,
          3.6,
          4.23,
          4.88,
          3.34,
          4.45,
          0,
          4.63,
          4.94,
          2.47,
          3.4,
          4.83,
          3.95,
          4.14,
          3.65,
          4.18,
          4.47,
          2.71,
          0,
          4.63,
          0,
          3.1,
          4.05,
          3.93,
          4.7,
          3.48,
          4.06,
          4,
          3.77,
          0,
          3.63,
          2.16,
          0,
          0,
          4.94,
          0,
          4.19,
          3.77,
          4.15,
          3.6,
          2.08,
          4.5,
          0,
          4.43,
          4.75,
          3.71,
          4.6,
          2.47,
          4.76,
          4.06,
          0,
          3.08,
          4.47,
          0,
          4.45,
          0,
          4.56,
          0,
          4.56,
          4.72,
          3.94,
          4.4,
          3.84,
          4.27,
          4,
          4.73,
          0,
          4.14,
          4.37,
          4.5,
          4.06,
          4.14,
          3.25,
          0,
          4,
          3.76,
          4.5,
          4.2,
          4.81,
          4.66,
          3.93,
          4.89,
          3.56,
          0,
          0,
          0,
          4.49,
          4.3,
          4.7,
          2.83,
          3.75,
          0,
          0,
          0,
          0,
          0,
          0,
          0,
          2.97,
          4.25,
          3.94,
          2.97,
          4.25,
          4.53,
          4.59,
          4.66,
          4.66,
          3.81,
          4.62,
          4.33,
          4.56,
          4.86,
          4.7,
          4.37,
          4.35,
          4.3,
          4.24,
          4.03,
          4.58,
          4.56,
          4.45,
          3.93,
          4,
          4.09,
          3.68,
          4.47,
          2.91,
          4.43,
          4.5,
          3.83,
          4.51,
          3.71,
          4.14,
          4.68,
          4.77,
          4.57,
          4.31,
          4.42,
          4.37,
          4.23,
          4.38,
          3.47,
          4.45,
          4.26,
          4.41,
          4.28,
          4.45,
          4.08,
          4.54,
          4.66,
          3.66,
          4.5,
          2.98,
          4.12,
          4.63,
          4.63,
          4.44,
          4.08,
          4.03,
          3.83,
          4.32,
          3.9,
          4.4,
          4.24,
          4.61,
          4.51,
          4.4,
          4.42,
          4.31,
          4.2,
          4.42,
          4.62,
          4.53,
          4.55,
          4.4,
          3.47,
          4.44,
          4.5,
          3.75,
          4.63,
          4.43,
          4.07,
          3.88,
          4.56,
          4.69,
          3.11,
          4.37,
          4.36,
          4.6,
          4.83,
          3.55,
          3.36,
          3.15,
          4.17,
          4.33,
          4.11,
          4.6,
          4.9,
          2.92,
          4.35,
          4.05,
          4.49,
          3.39,
          4.48,
          4.39,
          3.81,
          4.32,
          4.11,
          4.47,
          4.11,
          3.96,
          4.17,
          4.57,
          4.2,
          3.25,
          3.92,
          4.62,
          4.73,
          4.12,
          0,
          0,
          0,
          0,
          0,
          0,
          null,
          0,
          0,
          5,
          5,
          null,
          0,
          0,
          0,
          0,
          0,
          0,
          0,
          0,
          0,
          0,
          0,
          0,
          0,
          0,
          0,
          0,
          0,
          0,
          0,
          4.22,
          4.26,
          3.97,
          4.56,
          4.7,
          4.57,
          2.08,
          4.47,
          4.3,
          4.8,
          4.35,
          4.31,
          3.74,
          4.17,
          4.28,
          3.51,
          4.43,
          3.92,
          4.39,
          4.19,
          4.4,
          4.39,
          4.17,
          3.94,
          4.55,
          4.73,
          4.52,
          4.11,
          4.28,
          4.1,
          3.8,
          3.47,
          4.24,
          4.12,
          4.6,
          4.36,
          4.74,
          4.5,
          3.76,
          4.55,
          4.57,
          4.74,
          4.87,
          4.65,
          4.24,
          4.4,
          4.22,
          4.33,
          4.42,
          4.31,
          4.22,
          4.53,
          4.31,
          4.07,
          4.48,
          4.45,
          4.33,
          4.65,
          4.7,
          4.79,
          4.77,
          4.71,
          4.23,
          4.58,
          4.42,
          4.7,
          4.67,
          4.66,
          4.47,
          4.71,
          4.71,
          4.73,
          3.47,
          4.08,
          4.67,
          4.35,
          0,
          0,
          0,
          0,
          0,
          0,
          0,
          0,
          4.92,
          5,
          5,
          0,
          0,
          3.8,
          0,
          0,
          4.68,
          0,
          0,
          0,
          0,
          0,
          0,
          1.83,
          0,
          0,
          5,
          0,
          4.78,
          0,
          0,
          0,
          0,
          0,
          0,
          0,
          0,
          3.25,
          4,
          5,
          0,
          4.85,
          0,
          5,
          0,
          0,
          0,
          0,
          0,
          0,
          0,
          4.71,
          4.6,
          4.73,
          4.21,
          4.83,
          4.69,
          4.91,
          4.65,
          4.45,
          4.74,
          4.59,
          4.14,
          4.29,
          4.39,
          4.38,
          4.03,
          4.14,
          3.25,
          4.54,
          4.82,
          3.75,
          3.88,
          3.26,
          4.71,
          4,
          4.06,
          4.04,
          4.45,
          4.82,
          4.62,
          4.33,
          3.11,
          4.63,
          4,
          4.87,
          2.67,
          4.98,
          4,
          4.67,
          4.46,
          4.28,
          2.27,
          3.42,
          4.22,
          3.4,
          4.69,
          4.1,
          4.87,
          4.2,
          3.91,
          4,
          0,
          0,
          0,
          0,
          0,
          0,
          0,
          0,
          0,
          0,
          0,
          0,
          0,
          0,
          4.9,
          4.38,
          4.12,
          4.58,
          4.17,
          4.17,
          4.79,
          4.47,
          3.29,
          4.51,
          3.73,
          3.38,
          2.88,
          3.99,
          4.4,
          4.76,
          4.55,
          4.59,
          2.78,
          4.55,
          4.69,
          4.8,
          4.35,
          4.61,
          4.79,
          4.16,
          4.22,
          4.32,
          4.2,
          4.65,
          4.38,
          3.41,
          3.84,
          3.33,
          4.3,
          4.6,
          3.79,
          4.68,
          4.32,
          3.93,
          3.71,
          4.53,
          0,
          4.57,
          0,
          0,
          0,
          0,
          0,
          0,
          0,
          0,
          0,
          0,
          0,
          0,
          0,
          5,
          0,
          4.74,
          4.06,
          4.37,
          4.58,
          4.45,
          4.84,
          4.85,
          4.38,
          4.35,
          4.32,
          2.81,
          4.34,
          3.73,
          4.72,
          4.72,
          4.85,
          4.72,
          3.35,
          4.55,
          4.72,
          4.85,
          4.52,
          4.23,
          4.88,
          4.32,
          3.52,
          0,
          0,
          4,
          0,
          0,
          5,
          0,
          0,
          0,
          0,
          5,
          0,
          5,
          0,
          1.43,
          0,
          3.2,
          5,
          3,
          0,
          4.29,
          0,
          3.41,
          0,
          5,
          0,
          0,
          0,
          3.89,
          3.38,
          3.93,
          4.91,
          5
         ]
        }
       ],
       "layout": {
        "shapes": [
         {
          "line": {
           "dash": "dashdot"
          },
          "type": "line",
          "x0": 3.2238166666666674,
          "x1": 3.2238166666666674,
          "y0": 0,
          "y1": 300
         }
        ],
        "template": {
         "data": {
          "bar": [
           {
            "error_x": {
             "color": "#2a3f5f"
            },
            "error_y": {
             "color": "#2a3f5f"
            },
            "marker": {
             "line": {
              "color": "#E5ECF6",
              "width": 0.5
             }
            },
            "type": "bar"
           }
          ],
          "barpolar": [
           {
            "marker": {
             "line": {
              "color": "#E5ECF6",
              "width": 0.5
             }
            },
            "type": "barpolar"
           }
          ],
          "carpet": [
           {
            "aaxis": {
             "endlinecolor": "#2a3f5f",
             "gridcolor": "white",
             "linecolor": "white",
             "minorgridcolor": "white",
             "startlinecolor": "#2a3f5f"
            },
            "baxis": {
             "endlinecolor": "#2a3f5f",
             "gridcolor": "white",
             "linecolor": "white",
             "minorgridcolor": "white",
             "startlinecolor": "#2a3f5f"
            },
            "type": "carpet"
           }
          ],
          "choropleth": [
           {
            "colorbar": {
             "outlinewidth": 0,
             "ticks": ""
            },
            "type": "choropleth"
           }
          ],
          "contour": [
           {
            "colorbar": {
             "outlinewidth": 0,
             "ticks": ""
            },
            "colorscale": [
             [
              0,
              "#0d0887"
             ],
             [
              0.1111111111111111,
              "#46039f"
             ],
             [
              0.2222222222222222,
              "#7201a8"
             ],
             [
              0.3333333333333333,
              "#9c179e"
             ],
             [
              0.4444444444444444,
              "#bd3786"
             ],
             [
              0.5555555555555556,
              "#d8576b"
             ],
             [
              0.6666666666666666,
              "#ed7953"
             ],
             [
              0.7777777777777778,
              "#fb9f3a"
             ],
             [
              0.8888888888888888,
              "#fdca26"
             ],
             [
              1,
              "#f0f921"
             ]
            ],
            "type": "contour"
           }
          ],
          "contourcarpet": [
           {
            "colorbar": {
             "outlinewidth": 0,
             "ticks": ""
            },
            "type": "contourcarpet"
           }
          ],
          "heatmap": [
           {
            "colorbar": {
             "outlinewidth": 0,
             "ticks": ""
            },
            "colorscale": [
             [
              0,
              "#0d0887"
             ],
             [
              0.1111111111111111,
              "#46039f"
             ],
             [
              0.2222222222222222,
              "#7201a8"
             ],
             [
              0.3333333333333333,
              "#9c179e"
             ],
             [
              0.4444444444444444,
              "#bd3786"
             ],
             [
              0.5555555555555556,
              "#d8576b"
             ],
             [
              0.6666666666666666,
              "#ed7953"
             ],
             [
              0.7777777777777778,
              "#fb9f3a"
             ],
             [
              0.8888888888888888,
              "#fdca26"
             ],
             [
              1,
              "#f0f921"
             ]
            ],
            "type": "heatmap"
           }
          ],
          "heatmapgl": [
           {
            "colorbar": {
             "outlinewidth": 0,
             "ticks": ""
            },
            "colorscale": [
             [
              0,
              "#0d0887"
             ],
             [
              0.1111111111111111,
              "#46039f"
             ],
             [
              0.2222222222222222,
              "#7201a8"
             ],
             [
              0.3333333333333333,
              "#9c179e"
             ],
             [
              0.4444444444444444,
              "#bd3786"
             ],
             [
              0.5555555555555556,
              "#d8576b"
             ],
             [
              0.6666666666666666,
              "#ed7953"
             ],
             [
              0.7777777777777778,
              "#fb9f3a"
             ],
             [
              0.8888888888888888,
              "#fdca26"
             ],
             [
              1,
              "#f0f921"
             ]
            ],
            "type": "heatmapgl"
           }
          ],
          "histogram": [
           {
            "marker": {
             "colorbar": {
              "outlinewidth": 0,
              "ticks": ""
             }
            },
            "type": "histogram"
           }
          ],
          "histogram2d": [
           {
            "colorbar": {
             "outlinewidth": 0,
             "ticks": ""
            },
            "colorscale": [
             [
              0,
              "#0d0887"
             ],
             [
              0.1111111111111111,
              "#46039f"
             ],
             [
              0.2222222222222222,
              "#7201a8"
             ],
             [
              0.3333333333333333,
              "#9c179e"
             ],
             [
              0.4444444444444444,
              "#bd3786"
             ],
             [
              0.5555555555555556,
              "#d8576b"
             ],
             [
              0.6666666666666666,
              "#ed7953"
             ],
             [
              0.7777777777777778,
              "#fb9f3a"
             ],
             [
              0.8888888888888888,
              "#fdca26"
             ],
             [
              1,
              "#f0f921"
             ]
            ],
            "type": "histogram2d"
           }
          ],
          "histogram2dcontour": [
           {
            "colorbar": {
             "outlinewidth": 0,
             "ticks": ""
            },
            "colorscale": [
             [
              0,
              "#0d0887"
             ],
             [
              0.1111111111111111,
              "#46039f"
             ],
             [
              0.2222222222222222,
              "#7201a8"
             ],
             [
              0.3333333333333333,
              "#9c179e"
             ],
             [
              0.4444444444444444,
              "#bd3786"
             ],
             [
              0.5555555555555556,
              "#d8576b"
             ],
             [
              0.6666666666666666,
              "#ed7953"
             ],
             [
              0.7777777777777778,
              "#fb9f3a"
             ],
             [
              0.8888888888888888,
              "#fdca26"
             ],
             [
              1,
              "#f0f921"
             ]
            ],
            "type": "histogram2dcontour"
           }
          ],
          "mesh3d": [
           {
            "colorbar": {
             "outlinewidth": 0,
             "ticks": ""
            },
            "type": "mesh3d"
           }
          ],
          "parcoords": [
           {
            "line": {
             "colorbar": {
              "outlinewidth": 0,
              "ticks": ""
             }
            },
            "type": "parcoords"
           }
          ],
          "pie": [
           {
            "automargin": true,
            "type": "pie"
           }
          ],
          "scatter": [
           {
            "marker": {
             "colorbar": {
              "outlinewidth": 0,
              "ticks": ""
             }
            },
            "type": "scatter"
           }
          ],
          "scatter3d": [
           {
            "line": {
             "colorbar": {
              "outlinewidth": 0,
              "ticks": ""
             }
            },
            "marker": {
             "colorbar": {
              "outlinewidth": 0,
              "ticks": ""
             }
            },
            "type": "scatter3d"
           }
          ],
          "scattercarpet": [
           {
            "marker": {
             "colorbar": {
              "outlinewidth": 0,
              "ticks": ""
             }
            },
            "type": "scattercarpet"
           }
          ],
          "scattergeo": [
           {
            "marker": {
             "colorbar": {
              "outlinewidth": 0,
              "ticks": ""
             }
            },
            "type": "scattergeo"
           }
          ],
          "scattergl": [
           {
            "marker": {
             "colorbar": {
              "outlinewidth": 0,
              "ticks": ""
             }
            },
            "type": "scattergl"
           }
          ],
          "scattermapbox": [
           {
            "marker": {
             "colorbar": {
              "outlinewidth": 0,
              "ticks": ""
             }
            },
            "type": "scattermapbox"
           }
          ],
          "scatterpolar": [
           {
            "marker": {
             "colorbar": {
              "outlinewidth": 0,
              "ticks": ""
             }
            },
            "type": "scatterpolar"
           }
          ],
          "scatterpolargl": [
           {
            "marker": {
             "colorbar": {
              "outlinewidth": 0,
              "ticks": ""
             }
            },
            "type": "scatterpolargl"
           }
          ],
          "scatterternary": [
           {
            "marker": {
             "colorbar": {
              "outlinewidth": 0,
              "ticks": ""
             }
            },
            "type": "scatterternary"
           }
          ],
          "surface": [
           {
            "colorbar": {
             "outlinewidth": 0,
             "ticks": ""
            },
            "colorscale": [
             [
              0,
              "#0d0887"
             ],
             [
              0.1111111111111111,
              "#46039f"
             ],
             [
              0.2222222222222222,
              "#7201a8"
             ],
             [
              0.3333333333333333,
              "#9c179e"
             ],
             [
              0.4444444444444444,
              "#bd3786"
             ],
             [
              0.5555555555555556,
              "#d8576b"
             ],
             [
              0.6666666666666666,
              "#ed7953"
             ],
             [
              0.7777777777777778,
              "#fb9f3a"
             ],
             [
              0.8888888888888888,
              "#fdca26"
             ],
             [
              1,
              "#f0f921"
             ]
            ],
            "type": "surface"
           }
          ],
          "table": [
           {
            "cells": {
             "fill": {
              "color": "#EBF0F8"
             },
             "line": {
              "color": "white"
             }
            },
            "header": {
             "fill": {
              "color": "#C8D4E3"
             },
             "line": {
              "color": "white"
             }
            },
            "type": "table"
           }
          ]
         },
         "layout": {
          "annotationdefaults": {
           "arrowcolor": "#2a3f5f",
           "arrowhead": 0,
           "arrowwidth": 1
          },
          "coloraxis": {
           "colorbar": {
            "outlinewidth": 0,
            "ticks": ""
           }
          },
          "colorscale": {
           "diverging": [
            [
             0,
             "#8e0152"
            ],
            [
             0.1,
             "#c51b7d"
            ],
            [
             0.2,
             "#de77ae"
            ],
            [
             0.3,
             "#f1b6da"
            ],
            [
             0.4,
             "#fde0ef"
            ],
            [
             0.5,
             "#f7f7f7"
            ],
            [
             0.6,
             "#e6f5d0"
            ],
            [
             0.7,
             "#b8e186"
            ],
            [
             0.8,
             "#7fbc41"
            ],
            [
             0.9,
             "#4d9221"
            ],
            [
             1,
             "#276419"
            ]
           ],
           "sequential": [
            [
             0,
             "#0d0887"
            ],
            [
             0.1111111111111111,
             "#46039f"
            ],
            [
             0.2222222222222222,
             "#7201a8"
            ],
            [
             0.3333333333333333,
             "#9c179e"
            ],
            [
             0.4444444444444444,
             "#bd3786"
            ],
            [
             0.5555555555555556,
             "#d8576b"
            ],
            [
             0.6666666666666666,
             "#ed7953"
            ],
            [
             0.7777777777777778,
             "#fb9f3a"
            ],
            [
             0.8888888888888888,
             "#fdca26"
            ],
            [
             1,
             "#f0f921"
            ]
           ],
           "sequentialminus": [
            [
             0,
             "#0d0887"
            ],
            [
             0.1111111111111111,
             "#46039f"
            ],
            [
             0.2222222222222222,
             "#7201a8"
            ],
            [
             0.3333333333333333,
             "#9c179e"
            ],
            [
             0.4444444444444444,
             "#bd3786"
            ],
            [
             0.5555555555555556,
             "#d8576b"
            ],
            [
             0.6666666666666666,
             "#ed7953"
            ],
            [
             0.7777777777777778,
             "#fb9f3a"
            ],
            [
             0.8888888888888888,
             "#fdca26"
            ],
            [
             1,
             "#f0f921"
            ]
           ]
          },
          "colorway": [
           "#636efa",
           "#EF553B",
           "#00cc96",
           "#ab63fa",
           "#FFA15A",
           "#19d3f3",
           "#FF6692",
           "#B6E880",
           "#FF97FF",
           "#FECB52"
          ],
          "font": {
           "color": "#2a3f5f"
          },
          "geo": {
           "bgcolor": "white",
           "lakecolor": "white",
           "landcolor": "#E5ECF6",
           "showlakes": true,
           "showland": true,
           "subunitcolor": "white"
          },
          "hoverlabel": {
           "align": "left"
          },
          "hovermode": "closest",
          "mapbox": {
           "style": "light"
          },
          "paper_bgcolor": "white",
          "plot_bgcolor": "#E5ECF6",
          "polar": {
           "angularaxis": {
            "gridcolor": "white",
            "linecolor": "white",
            "ticks": ""
           },
           "bgcolor": "#E5ECF6",
           "radialaxis": {
            "gridcolor": "white",
            "linecolor": "white",
            "ticks": ""
           }
          },
          "scene": {
           "xaxis": {
            "backgroundcolor": "#E5ECF6",
            "gridcolor": "white",
            "gridwidth": 2,
            "linecolor": "white",
            "showbackground": true,
            "ticks": "",
            "zerolinecolor": "white"
           },
           "yaxis": {
            "backgroundcolor": "#E5ECF6",
            "gridcolor": "white",
            "gridwidth": 2,
            "linecolor": "white",
            "showbackground": true,
            "ticks": "",
            "zerolinecolor": "white"
           },
           "zaxis": {
            "backgroundcolor": "#E5ECF6",
            "gridcolor": "white",
            "gridwidth": 2,
            "linecolor": "white",
            "showbackground": true,
            "ticks": "",
            "zerolinecolor": "white"
           }
          },
          "shapedefaults": {
           "line": {
            "color": "#2a3f5f"
           }
          },
          "ternary": {
           "aaxis": {
            "gridcolor": "white",
            "linecolor": "white",
            "ticks": ""
           },
           "baxis": {
            "gridcolor": "white",
            "linecolor": "white",
            "ticks": ""
           },
           "bgcolor": "#E5ECF6",
           "caxis": {
            "gridcolor": "white",
            "linecolor": "white",
            "ticks": ""
           }
          },
          "title": {
           "x": 0.05
          },
          "xaxis": {
           "automargin": true,
           "gridcolor": "white",
           "linecolor": "white",
           "ticks": "",
           "title": {
            "standoff": 15
           },
           "zerolinecolor": "white",
           "zerolinewidth": 2
          },
          "yaxis": {
           "automargin": true,
           "gridcolor": "white",
           "linecolor": "white",
           "ticks": "",
           "title": {
            "standoff": 15
           },
           "zerolinecolor": "white",
           "zerolinewidth": 2
          }
         }
        }
       }
      },
      "text/html": [
       "<div>                            <div id=\"4773a1b5-3337-4b04-a554-39380b2a5aa6\" class=\"plotly-graph-div\" style=\"height:525px; width:100%;\"></div>            <script type=\"text/javascript\">                require([\"plotly\"], function(Plotly) {                    window.PLOTLYENV=window.PLOTLYENV || {};                                    if (document.getElementById(\"4773a1b5-3337-4b04-a554-39380b2a5aa6\")) {                    Plotly.newPlot(                        \"4773a1b5-3337-4b04-a554-39380b2a5aa6\",                        [{\"type\": \"histogram\", \"x\": [0.0, 0.0, 0.0, 0.0, 4.75, 4.22, 4.61, 4.22, 4.75, 4.41, 4.36, 4.56, 4.42, 4.75, 4.67, 4.57, 4.44, 4.24, 4.58, 4.6, 4.52, 3.86, 2.83, 0.0, 3.0, 0.0, 3.57, 4.09, 4.0, 4.47, 4.76, 4.2, 4.43, 4.76, 4.04, 3.67, 0.0, 4.0, 4.85, 4.11, 4.75, 0.0, 4.84, 3.6, 4.23, 4.88, 3.34, 4.45, 0.0, 4.63, 4.94, 2.47, 3.4, 4.83, 3.95, 4.14, 3.65, 4.18, 4.47, 2.71, 0.0, 4.63, 0.0, 3.1, 4.05, 3.93, 4.7, 3.48, 4.06, 4.0, 3.77, 0.0, 3.63, 2.16, 0.0, 0.0, 4.94, 0.0, 4.19, 3.77, 4.15, 3.6, 2.08, 4.5, 0.0, 4.43, 4.75, 3.71, 4.6, 2.47, 4.76, 4.06, 0.0, 3.08, 4.47, 0.0, 4.45, 0.0, 4.56, 0.0, 4.56, 4.72, 3.94, 4.4, 3.84, 4.27, 4.0, 4.73, 0.0, 4.14, 4.37, 4.5, 4.06, 4.14, 3.25, 0.0, 4.0, 3.76, 4.5, 4.2, 4.81, 4.66, 3.93, 4.89, 3.56, 0.0, 0.0, 0.0, 4.49, 4.3, 4.7, 2.83, 3.75, 0.0, 0.0, 0.0, 0.0, 0.0, 0.0, 0.0, 2.97, 4.25, 3.94, 2.97, 4.25, 4.53, 4.59, 4.66, 4.66, 3.81, 4.62, 4.33, 4.56, 4.86, 4.7, 4.37, 4.35, 4.3, 4.24, 4.03, 4.58, 4.56, 4.45, 3.93, 4.0, 4.09, 3.68, 4.47, 2.91, 4.43, 4.5, 3.83, 4.51, 3.71, 4.14, 4.68, 4.77, 4.57, 4.31, 4.42, 4.37, 4.23, 4.38, 3.47, 4.45, 4.26, 4.41, 4.28, 4.45, 4.08, 4.54, 4.66, 3.66, 4.5, 2.98, 4.12, 4.63, 4.63, 4.44, 4.08, 4.03, 3.83, 4.32, 3.9, 4.4, 4.24, 4.61, 4.51, 4.4, 4.42, 4.31, 4.2, 4.42, 4.62, 4.53, 4.55, 4.4, 3.47, 4.44, 4.5, 3.75, 4.63, 4.43, 4.07, 3.88, 4.56, 4.69, 3.11, 4.37, 4.36, 4.6, 4.83, 3.55, 3.36, 3.15, 4.17, 4.33, 4.11, 4.6, 4.9, 2.92, 4.35, 4.05, 4.49, 3.39, 4.48, 4.39, 3.81, 4.32, 4.11, 4.47, 4.11, 3.96, 4.17, 4.57, 4.2, 3.25, 3.92, 4.62, 4.73, 4.12, 0.0, 0.0, 0.0, 0.0, 0.0, 0.0, null, 0.0, 0.0, 5.0, 5.0, null, 0.0, 0.0, 0.0, 0.0, 0.0, 0.0, 0.0, 0.0, 0.0, 0.0, 0.0, 0.0, 0.0, 0.0, 0.0, 0.0, 0.0, 0.0, 0.0, 4.22, 4.26, 3.97, 4.56, 4.7, 4.57, 2.08, 4.47, 4.3, 4.8, 4.35, 4.31, 3.74, 4.17, 4.28, 3.51, 4.43, 3.92, 4.39, 4.19, 4.4, 4.39, 4.17, 3.94, 4.55, 4.73, 4.52, 4.11, 4.28, 4.1, 3.8, 3.47, 4.24, 4.12, 4.6, 4.36, 4.74, 4.5, 3.76, 4.55, 4.57, 4.74, 4.87, 4.65, 4.24, 4.4, 4.22, 4.33, 4.42, 4.31, 4.22, 4.53, 4.31, 4.07, 4.48, 4.45, 4.33, 4.65, 4.7, 4.79, 4.77, 4.71, 4.23, 4.58, 4.42, 4.7, 4.67, 4.66, 4.47, 4.71, 4.71, 4.73, 3.47, 4.08, 4.67, 4.35, 0.0, 0.0, 0.0, 0.0, 0.0, 0.0, 0.0, 0.0, 4.92, 5.0, 5.0, 0.0, 0.0, 3.8, 0.0, 0.0, 4.68, 0.0, 0.0, 0.0, 0.0, 0.0, 0.0, 1.83, 0.0, 0.0, 5.0, 0.0, 4.78, 0.0, 0.0, 0.0, 0.0, 0.0, 0.0, 0.0, 0.0, 3.25, 4.0, 5.0, 0.0, 4.85, 0.0, 5.0, 0.0, 0.0, 0.0, 0.0, 0.0, 0.0, 0.0, 4.71, 4.6, 4.73, 4.21, 4.83, 4.69, 4.91, 4.65, 4.45, 4.74, 4.59, 4.14, 4.29, 4.39, 4.38, 4.03, 4.14, 3.25, 4.54, 4.82, 3.75, 3.88, 3.26, 4.71, 4.0, 4.06, 4.04, 4.45, 4.82, 4.62, 4.33, 3.11, 4.63, 4.0, 4.87, 2.67, 4.98, 4.0, 4.67, 4.46, 4.28, 2.27, 3.42, 4.22, 3.4, 4.69, 4.1, 4.87, 4.2, 3.91, 4.0, 0.0, 0.0, 0.0, 0.0, 0.0, 0.0, 0.0, 0.0, 0.0, 0.0, 0.0, 0.0, 0.0, 0.0, 4.9, 4.38, 4.12, 4.58, 4.17, 4.17, 4.79, 4.47, 3.29, 4.51, 3.73, 3.38, 2.88, 3.99, 4.4, 4.76, 4.55, 4.59, 2.78, 4.55, 4.69, 4.8, 4.35, 4.61, 4.79, 4.16, 4.22, 4.32, 4.2, 4.65, 4.38, 3.41, 3.84, 3.33, 4.3, 4.6, 3.79, 4.68, 4.32, 3.93, 3.71, 4.53, 0.0, 4.57, 0.0, 0.0, 0.0, 0.0, 0.0, 0.0, 0.0, 0.0, 0.0, 0.0, 0.0, 0.0, 0.0, 5.0, 0.0, 4.74, 4.06, 4.37, 4.58, 4.45, 4.84, 4.85, 4.38, 4.35, 4.32, 2.81, 4.34, 3.73, 4.72, 4.72, 4.85, 4.72, 3.35, 4.55, 4.72, 4.85, 4.52, 4.23, 4.88, 4.32, 3.52, 0.0, 0.0, 4.0, 0.0, 0.0, 5.0, 0.0, 0.0, 0.0, 0.0, 5.0, 0.0, 5.0, 0.0, 1.43, 0.0, 3.2, 5.0, 3.0, 0.0, 4.29, 0.0, 3.41, 0.0, 5.0, 0.0, 0.0, 0.0, 3.89, 3.38, 3.93, 4.91, 5.0]}],                        {\"shapes\": [{\"line\": {\"dash\": \"dashdot\"}, \"type\": \"line\", \"x0\": 3.2238166666666674, \"x1\": 3.2238166666666674, \"y0\": 0, \"y1\": 300}], \"template\": {\"data\": {\"bar\": [{\"error_x\": {\"color\": \"#2a3f5f\"}, \"error_y\": {\"color\": \"#2a3f5f\"}, \"marker\": {\"line\": {\"color\": \"#E5ECF6\", \"width\": 0.5}}, \"type\": \"bar\"}], \"barpolar\": [{\"marker\": {\"line\": {\"color\": \"#E5ECF6\", \"width\": 0.5}}, \"type\": \"barpolar\"}], \"carpet\": [{\"aaxis\": {\"endlinecolor\": \"#2a3f5f\", \"gridcolor\": \"white\", \"linecolor\": \"white\", \"minorgridcolor\": \"white\", \"startlinecolor\": \"#2a3f5f\"}, \"baxis\": {\"endlinecolor\": \"#2a3f5f\", \"gridcolor\": \"white\", \"linecolor\": \"white\", \"minorgridcolor\": \"white\", \"startlinecolor\": \"#2a3f5f\"}, \"type\": \"carpet\"}], \"choropleth\": [{\"colorbar\": {\"outlinewidth\": 0, \"ticks\": \"\"}, \"type\": \"choropleth\"}], \"contour\": [{\"colorbar\": {\"outlinewidth\": 0, \"ticks\": \"\"}, \"colorscale\": [[0.0, \"#0d0887\"], [0.1111111111111111, \"#46039f\"], [0.2222222222222222, \"#7201a8\"], [0.3333333333333333, \"#9c179e\"], [0.4444444444444444, \"#bd3786\"], [0.5555555555555556, \"#d8576b\"], [0.6666666666666666, \"#ed7953\"], [0.7777777777777778, \"#fb9f3a\"], [0.8888888888888888, \"#fdca26\"], [1.0, \"#f0f921\"]], \"type\": \"contour\"}], \"contourcarpet\": [{\"colorbar\": {\"outlinewidth\": 0, \"ticks\": \"\"}, \"type\": \"contourcarpet\"}], \"heatmap\": [{\"colorbar\": {\"outlinewidth\": 0, \"ticks\": \"\"}, \"colorscale\": [[0.0, \"#0d0887\"], [0.1111111111111111, \"#46039f\"], [0.2222222222222222, \"#7201a8\"], [0.3333333333333333, \"#9c179e\"], [0.4444444444444444, \"#bd3786\"], [0.5555555555555556, \"#d8576b\"], [0.6666666666666666, \"#ed7953\"], [0.7777777777777778, \"#fb9f3a\"], [0.8888888888888888, \"#fdca26\"], [1.0, \"#f0f921\"]], \"type\": \"heatmap\"}], \"heatmapgl\": [{\"colorbar\": {\"outlinewidth\": 0, \"ticks\": \"\"}, \"colorscale\": [[0.0, \"#0d0887\"], [0.1111111111111111, \"#46039f\"], [0.2222222222222222, \"#7201a8\"], [0.3333333333333333, \"#9c179e\"], [0.4444444444444444, \"#bd3786\"], [0.5555555555555556, \"#d8576b\"], [0.6666666666666666, \"#ed7953\"], [0.7777777777777778, \"#fb9f3a\"], [0.8888888888888888, \"#fdca26\"], [1.0, \"#f0f921\"]], \"type\": \"heatmapgl\"}], \"histogram\": [{\"marker\": {\"colorbar\": {\"outlinewidth\": 0, \"ticks\": \"\"}}, \"type\": \"histogram\"}], \"histogram2d\": [{\"colorbar\": {\"outlinewidth\": 0, \"ticks\": \"\"}, \"colorscale\": [[0.0, \"#0d0887\"], [0.1111111111111111, \"#46039f\"], [0.2222222222222222, \"#7201a8\"], [0.3333333333333333, \"#9c179e\"], [0.4444444444444444, \"#bd3786\"], [0.5555555555555556, \"#d8576b\"], [0.6666666666666666, \"#ed7953\"], [0.7777777777777778, \"#fb9f3a\"], [0.8888888888888888, \"#fdca26\"], [1.0, \"#f0f921\"]], \"type\": \"histogram2d\"}], \"histogram2dcontour\": [{\"colorbar\": {\"outlinewidth\": 0, \"ticks\": \"\"}, \"colorscale\": [[0.0, \"#0d0887\"], [0.1111111111111111, \"#46039f\"], [0.2222222222222222, \"#7201a8\"], [0.3333333333333333, \"#9c179e\"], [0.4444444444444444, \"#bd3786\"], [0.5555555555555556, \"#d8576b\"], [0.6666666666666666, \"#ed7953\"], [0.7777777777777778, \"#fb9f3a\"], [0.8888888888888888, \"#fdca26\"], [1.0, \"#f0f921\"]], \"type\": \"histogram2dcontour\"}], \"mesh3d\": [{\"colorbar\": {\"outlinewidth\": 0, \"ticks\": \"\"}, \"type\": \"mesh3d\"}], \"parcoords\": [{\"line\": {\"colorbar\": {\"outlinewidth\": 0, \"ticks\": \"\"}}, \"type\": \"parcoords\"}], \"pie\": [{\"automargin\": true, \"type\": \"pie\"}], \"scatter\": [{\"marker\": {\"colorbar\": {\"outlinewidth\": 0, \"ticks\": \"\"}}, \"type\": \"scatter\"}], \"scatter3d\": [{\"line\": {\"colorbar\": {\"outlinewidth\": 0, \"ticks\": \"\"}}, \"marker\": {\"colorbar\": {\"outlinewidth\": 0, \"ticks\": \"\"}}, \"type\": \"scatter3d\"}], \"scattercarpet\": [{\"marker\": {\"colorbar\": {\"outlinewidth\": 0, \"ticks\": \"\"}}, \"type\": \"scattercarpet\"}], \"scattergeo\": [{\"marker\": {\"colorbar\": {\"outlinewidth\": 0, \"ticks\": \"\"}}, \"type\": \"scattergeo\"}], \"scattergl\": [{\"marker\": {\"colorbar\": {\"outlinewidth\": 0, \"ticks\": \"\"}}, \"type\": \"scattergl\"}], \"scattermapbox\": [{\"marker\": {\"colorbar\": {\"outlinewidth\": 0, \"ticks\": \"\"}}, \"type\": \"scattermapbox\"}], \"scatterpolar\": [{\"marker\": {\"colorbar\": {\"outlinewidth\": 0, \"ticks\": \"\"}}, \"type\": \"scatterpolar\"}], \"scatterpolargl\": [{\"marker\": {\"colorbar\": {\"outlinewidth\": 0, \"ticks\": \"\"}}, \"type\": \"scatterpolargl\"}], \"scatterternary\": [{\"marker\": {\"colorbar\": {\"outlinewidth\": 0, \"ticks\": \"\"}}, \"type\": \"scatterternary\"}], \"surface\": [{\"colorbar\": {\"outlinewidth\": 0, \"ticks\": \"\"}, \"colorscale\": [[0.0, \"#0d0887\"], [0.1111111111111111, \"#46039f\"], [0.2222222222222222, \"#7201a8\"], [0.3333333333333333, \"#9c179e\"], [0.4444444444444444, \"#bd3786\"], [0.5555555555555556, \"#d8576b\"], [0.6666666666666666, \"#ed7953\"], [0.7777777777777778, \"#fb9f3a\"], [0.8888888888888888, \"#fdca26\"], [1.0, \"#f0f921\"]], \"type\": \"surface\"}], \"table\": [{\"cells\": {\"fill\": {\"color\": \"#EBF0F8\"}, \"line\": {\"color\": \"white\"}}, \"header\": {\"fill\": {\"color\": \"#C8D4E3\"}, \"line\": {\"color\": \"white\"}}, \"type\": \"table\"}]}, \"layout\": {\"annotationdefaults\": {\"arrowcolor\": \"#2a3f5f\", \"arrowhead\": 0, \"arrowwidth\": 1}, \"coloraxis\": {\"colorbar\": {\"outlinewidth\": 0, \"ticks\": \"\"}}, \"colorscale\": {\"diverging\": [[0, \"#8e0152\"], [0.1, \"#c51b7d\"], [0.2, \"#de77ae\"], [0.3, \"#f1b6da\"], [0.4, \"#fde0ef\"], [0.5, \"#f7f7f7\"], [0.6, \"#e6f5d0\"], [0.7, \"#b8e186\"], [0.8, \"#7fbc41\"], [0.9, \"#4d9221\"], [1, \"#276419\"]], \"sequential\": [[0.0, \"#0d0887\"], [0.1111111111111111, \"#46039f\"], [0.2222222222222222, \"#7201a8\"], [0.3333333333333333, \"#9c179e\"], [0.4444444444444444, \"#bd3786\"], [0.5555555555555556, \"#d8576b\"], [0.6666666666666666, \"#ed7953\"], [0.7777777777777778, \"#fb9f3a\"], [0.8888888888888888, \"#fdca26\"], [1.0, \"#f0f921\"]], \"sequentialminus\": [[0.0, \"#0d0887\"], [0.1111111111111111, \"#46039f\"], [0.2222222222222222, \"#7201a8\"], [0.3333333333333333, \"#9c179e\"], [0.4444444444444444, \"#bd3786\"], [0.5555555555555556, \"#d8576b\"], [0.6666666666666666, \"#ed7953\"], [0.7777777777777778, \"#fb9f3a\"], [0.8888888888888888, \"#fdca26\"], [1.0, \"#f0f921\"]]}, \"colorway\": [\"#636efa\", \"#EF553B\", \"#00cc96\", \"#ab63fa\", \"#FFA15A\", \"#19d3f3\", \"#FF6692\", \"#B6E880\", \"#FF97FF\", \"#FECB52\"], \"font\": {\"color\": \"#2a3f5f\"}, \"geo\": {\"bgcolor\": \"white\", \"lakecolor\": \"white\", \"landcolor\": \"#E5ECF6\", \"showlakes\": true, \"showland\": true, \"subunitcolor\": \"white\"}, \"hoverlabel\": {\"align\": \"left\"}, \"hovermode\": \"closest\", \"mapbox\": {\"style\": \"light\"}, \"paper_bgcolor\": \"white\", \"plot_bgcolor\": \"#E5ECF6\", \"polar\": {\"angularaxis\": {\"gridcolor\": \"white\", \"linecolor\": \"white\", \"ticks\": \"\"}, \"bgcolor\": \"#E5ECF6\", \"radialaxis\": {\"gridcolor\": \"white\", \"linecolor\": \"white\", \"ticks\": \"\"}}, \"scene\": {\"xaxis\": {\"backgroundcolor\": \"#E5ECF6\", \"gridcolor\": \"white\", \"gridwidth\": 2, \"linecolor\": \"white\", \"showbackground\": true, \"ticks\": \"\", \"zerolinecolor\": \"white\"}, \"yaxis\": {\"backgroundcolor\": \"#E5ECF6\", \"gridcolor\": \"white\", \"gridwidth\": 2, \"linecolor\": \"white\", \"showbackground\": true, \"ticks\": \"\", \"zerolinecolor\": \"white\"}, \"zaxis\": {\"backgroundcolor\": \"#E5ECF6\", \"gridcolor\": \"white\", \"gridwidth\": 2, \"linecolor\": \"white\", \"showbackground\": true, \"ticks\": \"\", \"zerolinecolor\": \"white\"}}, \"shapedefaults\": {\"line\": {\"color\": \"#2a3f5f\"}}, \"ternary\": {\"aaxis\": {\"gridcolor\": \"white\", \"linecolor\": \"white\", \"ticks\": \"\"}, \"baxis\": {\"gridcolor\": \"white\", \"linecolor\": \"white\", \"ticks\": \"\"}, \"bgcolor\": \"#E5ECF6\", \"caxis\": {\"gridcolor\": \"white\", \"linecolor\": \"white\", \"ticks\": \"\"}}, \"title\": {\"x\": 0.05}, \"xaxis\": {\"automargin\": true, \"gridcolor\": \"white\", \"linecolor\": \"white\", \"ticks\": \"\", \"title\": {\"standoff\": 15}, \"zerolinecolor\": \"white\", \"zerolinewidth\": 2}, \"yaxis\": {\"automargin\": true, \"gridcolor\": \"white\", \"linecolor\": \"white\", \"ticks\": \"\", \"title\": {\"standoff\": 15}, \"zerolinecolor\": \"white\", \"zerolinewidth\": 2}}}},                        {\"responsive\": true}                    ).then(function(){\n",
       "                            \n",
       "var gd = document.getElementById('4773a1b5-3337-4b04-a554-39380b2a5aa6');\n",
       "var x = new MutationObserver(function (mutations, observer) {{\n",
       "        var display = window.getComputedStyle(gd).display;\n",
       "        if (!display || display === 'none') {{\n",
       "            console.log([gd, 'removed!']);\n",
       "            Plotly.purge(gd);\n",
       "            observer.disconnect();\n",
       "        }}\n",
       "}});\n",
       "\n",
       "// Listen for the removal of the full notebook cells\n",
       "var notebookContainer = gd.closest('#notebook-container');\n",
       "if (notebookContainer) {{\n",
       "    x.observe(notebookContainer, {childList: true});\n",
       "}}\n",
       "\n",
       "// Listen for the clearing of the current output cell\n",
       "var outputEl = gd.closest('.output');\n",
       "if (outputEl) {{\n",
       "    x.observe(outputEl, {childList: true});\n",
       "}}\n",
       "\n",
       "                        })                };                });            </script>        </div>"
      ]
     },
     "metadata": {},
     "output_type": "display_data"
    }
   ],
   "source": [
    "# Average rating of apps\n",
    "avg_app_rating = apps['score'].mean()\n",
    "print('Average app rating = ', avg_app_rating)\n",
    "\n",
    "# Distribution of apps according to their ratings\n",
    "data = [go.Histogram(\n",
    "        x = apps['score']\n",
    ")]\n",
    "\n",
    "# Vertical dashed line to indicate the average app rating\n",
    "layout = {'shapes': [{\n",
    "              'type' :'line',\n",
    "              'x0': avg_app_rating,\n",
    "              'y0': 0,\n",
    "              'x1': avg_app_rating,\n",
    "              'y1': 300,\n",
    "              'line': { 'dash': 'dashdot'}\n",
    "          }]\n",
    "          }\n",
    "\n",
    "plotly.offline.iplot({'data': data, 'layout': layout})"
   ]
  },
  {
   "cell_type": "code",
   "execution_count": 15,
   "metadata": {},
   "outputs": [
    {
     "data": {
      "text/plain": [
       "Text(29.125, 0.5, 'Number of Installs (in 100,000s)')"
      ]
     },
     "execution_count": 15,
     "metadata": {},
     "output_type": "execute_result"
    },
    {
     "data": {
      "image/png": "[encoded data removed]",
      "text/plain": [
       "<Figure size 432x432 with 3 Axes>"
      ]
     },
     "metadata": {},
     "output_type": "display_data"
    },
    {
     "data": {
      "image/png": "[encoded data removed]",
      "text/plain": [
       "<Figure size 432x432 with 3 Axes>"
      ]
     },
     "metadata": {},
     "output_type": "display_data"
    }
   ],
   "source": [
    "# Filter rows where both Rating and Size values are not null\n",
    "apps_with_size_and_rating_present = apps[(~apps['score'].isnull()) & (~apps['size'].isnull())]\n",
    "\n",
    "# Subset for categories with at least 250 apps\n",
    "large_apps = apps_with_size_and_rating_present[apps_with_size_and_rating_present['size'] <= 150]\n",
    "\n",
    "# Plot size vs. rating score\n",
    "plt1 = sns.jointplot(x = large_apps['score'], y = large_apps['size'], kind='scatter', color='g')\n",
    "plt1.ax_joint.set_xlabel('Rating Score', fontsize=11)\n",
    "plt1.ax_joint.set_ylabel('App Size (in MB)', fontsize=11)\n",
    "\n",
    "# Subset apps whose 'installs > 1 M'\n",
    "freq_apps = apps_with_size_and_rating_present[(apps_with_size_and_rating_present['installs'] >= 1000000) & (apps_with_size_and_rating_present['installs'] <= 10000000)]\n",
    "\n",
    "# Plot installs vs. rating score\n",
    "plt2 = sns.jointplot(x = freq_apps['score'], y = freq_apps['installs'], marker = 'x')\n",
    "plt2.plot_joint(sns.kdeplot, color=\"r\", zorder=0, levels=8)\n",
    "plt2.plot_marginals(sns.rugplot, color=\"r\", height=-.15, clip_on=False)\n",
    "plt2.ax_joint.set_xlabel('Rating Score', fontsize=11)\n",
    "plt2.ax_joint.set_ylabel('Number of Installs (in 100,000s)', fontsize=11)"
   ]
  },
  {
   "cell_type": "code",
   "execution_count": 9,
   "metadata": {},
   "outputs": [
    {
     "data": {
      "text/html": [
       "<div>\n",
       "<style scoped>\n",
       "    .dataframe tbody tr th:only-of-type {\n",
       "        vertical-align: middle;\n",
       "    }\n",
       "\n",
       "    .dataframe tbody tr th {\n",
       "        vertical-align: top;\n",
       "    }\n",
       "\n",
       "    .dataframe thead th {\n",
       "        text-align: right;\n",
       "    }\n",
       "</style>\n",
       "<table border=\"1\" class=\"dataframe\">\n",
       "  <thead>\n",
       "    <tr style=\"text-align: right;\">\n",
       "      <th></th>\n",
       "      <th>genre</th>\n",
       "      <th>title</th>\n",
       "      <th>contentRating</th>\n",
       "      <th>installs</th>\n",
       "    </tr>\n",
       "  </thead>\n",
       "  <tbody>\n",
       "    <tr>\n",
       "      <th>120</th>\n",
       "      <td>Health &amp; Fitness</td>\n",
       "      <td>Calm - Meditate, Sleep, Relax</td>\n",
       "      <td>Everyone</td>\n",
       "      <td>10000000</td>\n",
       "    </tr>\n",
       "    <tr>\n",
       "      <th>121</th>\n",
       "      <td>Education</td>\n",
       "      <td>Pepi Hospital</td>\n",
       "      <td>Everyone</td>\n",
       "      <td>10000000</td>\n",
       "    </tr>\n",
       "    <tr>\n",
       "      <th>122</th>\n",
       "      <td>Health &amp; Fitness</td>\n",
       "      <td>Calm - Meditate, Sleep, Relax</td>\n",
       "      <td>Everyone</td>\n",
       "      <td>10000000</td>\n",
       "    </tr>\n",
       "    <tr>\n",
       "      <th>123</th>\n",
       "      <td>Health &amp; Fitness</td>\n",
       "      <td>Fabulous: Daily Motivation &amp; Habit Tracker</td>\n",
       "      <td>Everyone</td>\n",
       "      <td>10000000</td>\n",
       "    </tr>\n",
       "    <tr>\n",
       "      <th>124</th>\n",
       "      <td>Lifestyle</td>\n",
       "      <td>Daylio - Diary, Journal, Mood Tracker</td>\n",
       "      <td>Everyone</td>\n",
       "      <td>10000000</td>\n",
       "    </tr>\n",
       "  </tbody>\n",
       "</table>\n",
       "</div>"
      ],
      "text/plain": [
       "                genre                                       title  \\\n",
       "120  Health & Fitness               Calm - Meditate, Sleep, Relax   \n",
       "121         Education                               Pepi Hospital   \n",
       "122  Health & Fitness               Calm - Meditate, Sleep, Relax   \n",
       "123  Health & Fitness  Fabulous: Daily Motivation & Habit Tracker   \n",
       "124         Lifestyle       Daylio - Diary, Journal, Mood Tracker   \n",
       "\n",
       "    contentRating  installs  \n",
       "120      Everyone  10000000  \n",
       "121      Everyone  10000000  \n",
       "122      Everyone  10000000  \n",
       "123      Everyone  10000000  \n",
       "124      Everyone  10000000  "
      ]
     },
     "execution_count": 9,
     "metadata": {},
     "output_type": "execute_result"
    },
    {
     "data": {
      "image/png": "[encoded data removed]",
      "text/plain": [
       "<Figure size 1080x576 with 1 Axes>"
      ]
     },
     "metadata": {},
     "output_type": "display_data"
    }
   ],
   "source": [
    "fig, ax = plt.subplots()\n",
    "fig.set_size_inches(15, 8)\n",
    "\n",
    "# Select a few popular app categories\n",
    "popular_app_cats = apps.groupby(apps['genre']).filter(lambda x: len(x) >= 50).reset_index()\n",
    "df_plot = popular_app_cats[popular_app_cats['score'] > 0]\n",
    "\n",
    "# Examine the price trend by plotting Price vs Category\n",
    "ax = sns.stripplot(x = df_plot['score'], y = df_plot['contentRating'], jitter=True, linewidth=1)\n",
    "ax.set_xlabel('Rating Score', fontsize=11)\n",
    "ax.set_ylabel('App Classification', fontsize=11)\n",
    "ax.set_title('App install trend across ages', fontsize=14)\n",
    "\n",
    "# Apps whose Price is greater than 200\n",
    "apss_over_50k_install = popular_app_cats[['genre', 'title', 'contentRating', 'installs']][popular_app_cats['installs']>=10000000]\n",
    "apss_over_50k_install\n",
    "#freq_apps"
   ]
  },
  {
   "cell_type": "code",
   "execution_count": 10,
   "metadata": {},
   "outputs": [
    {
     "data": {
      "text/plain": [
       "<Figure size 720x432 with 0 Axes>"
      ]
     },
     "metadata": {},
     "output_type": "display_data"
    },
    {
     "data": {
      "image/png": "[encoded data removed]",
      "text/plain": [
       "<Figure size 432x432 with 3 Axes>"
      ]
     },
     "metadata": {},
     "output_type": "display_data"
    }
   ],
   "source": [
    "apps['per_raters'] = (apps['ratings']/apps['installs'])*100\n",
    "apps['per_raters'] = np.where(apps['per_raters']=='NaN', 0, apps['per_raters'])\n",
    "#print(apps.head(5))\n",
    "\n",
    "plt.figure(figsize=(10,6))\n",
    "sns.jointplot(x = apps['score'], y = apps['per_raters'], kind='reg', color='b')\n",
    "plt.title('Rating Score vs Number of Ratings')\n",
    "plt.xlabel('Rating Score')\n",
    "plt.ylabel('% of Ratings')\n",
    "plt.show()"
   ]
  },
  {
   "cell_type": "code",
   "execution_count": 11,
   "metadata": {},
   "outputs": [
    {
     "data": {
      "application/vnd.plotly.v1+json": {
       "config": {
        "plotlyServerURL": "https://plot.ly"
       },
       "data": [
        {
         "link": {
          "source": [
           "Personal Remedies LLC",
           "Personal Remedies LLC",
           "PINTO SOFTWARE PRODUCTS",
           "Deep Waves Ltd.",
           "23andMe",
           "American Well",
           "Drugs.com",
           "Atomic Infoapps",
           "despDev",
           "Giorgio Regni",
           "Myrecek",
           "BetterHelp - Therapy Made Easy",
           "jacob1",
           "23andMe",
           "QxMD Medical Software Inc.",
           "Mindefy Labs",
           "App Holdings",
           "Mobifolio",
           "Daily inc.",
           "PursueCare LLC",
           "Pear Therapeutics, Inc.",
           "Learning Pool",
           "King Star Studio",
           "lahcenappsinc",
           "Keystoneptune",
           "Inquiry Health LLC",
           "averhealth",
           "bedieman",
           "Health Info",
           "My Life Link",
           "Higher Learning Technologies Inc",
           "DT Study",
           "RxAssurance",
           "Electrovese Solutions",
           "Skyscape Medpresso Inc",
           "PsychSurveys LLC",
           "Mobile Seva",
           "Vission Assist",
           "Ascend Innovations",
           "Wagon Health Solutions",
           "Mobile Seva",
           "Book Free Apps",
           "Matt Vargo",
           "othmane andoapp",
           "Youth Organisations for Drug Action",
           "bhadresh patel",
           "Veterinary Advances Ltd",
           "Skyscape Medpresso Inc",
           "Alberta Health Services",
           "Mohammad Aldefrawy",
           "Train To Proclaim",
           "Higher Learning Technologies Inc",
           "the reyv",
           "Dr. Michael Joseph Deal, M.D.",
           "CaredFor",
           "GOH Technology Care",
           "SoberBuddy",
           "Massachusetts Addiction Recovery Software, Inc.",
           "DynamiCare Health",
           "ljk inc.",
           "NassApp",
           "NOVOS Behavioral Health Solutions, LLC",
           "RedRobotIT",
           "The Matilda Centre at the University of Sydney",
           "NA World Services, Inc.",
           "Mobilicks",
           "Chris Thompson - Sidekick",
           "BookMobile",
           "StatesApps",
           "Nitramite",
           "Fjapps",
           "Fumo",
           "exag GmbH",
           "Otorize",
           "LLC Kirlanik",
           "SOLUTION-PRO",
           "PeerSpot Technologies",
           "Helsingin kaupunki",
           "Elecont software",
           "BookMobile",
           "Skyscape Medpresso Inc",
           "AdaptPharma",
           "Biowave Corporation",
           "Graham Grove",
           "The Social Innovation",
           "Education_free",
           "Groupe hospitalier Paris Saint-Joseph",
           "Altrix Medical, LLC",
           "NEFTIS",
           "Stop M",
           "SoberTool",
           "SR Group",
           "Expert Health Studio",
           "Anastore",
           "AppsNativas",
           "Things To Do",
           "WEconnect",
           "TechMono360",
           "CAMH Education",
           "Lionrock Recovery",
           "BookMobile",
           "Code Crunch",
           "Impact Collective",
           "Solution Maker",
           "Semo Plays",
           "CaredFor",
           "Nature Healthy Care",
           "aconal",
           "DxRx, Inc.",
           "Clear Design Group",
           "VikingSource",
           "Recovery Record",
           "NoConnection",
           "INDEE ApS",
           "SBLMNL",
           "John Wiley & Sons, Inc.",
           "Pyro Games",
           "The Happy Apps Company Ltd",
           "BernieTomsonMedia",
           "BriskerGames",
           "Ofniinfo App",
           "Horizon Corporation",
           "Colsner Technology",
           "Innovative Cancer Care and Rehabilitation Pvt Ltd",
           "Hope & Freedom",
           "MasterpieceApps",
           "NUPUIT",
           "App Diggity, LLC",
           "Berbers Development",
           "Mobile Addcition Control, Hindi News",
           "FGGLabs",
           "TP Topics",
           "Best Self Learning Apps",
           "Healthism",
           "Indextra AB",
           "Vital Treatment Finder",
           "Web4u Corporation",
           "JMEDICAL",
           "Iroquois Healthcare Association",
           "10times.com",
           "Ruby Game Studio",
           "Calm.com, Inc.",
           "Pepi Play",
           "Ruby Game Studio",
           "Calm.com, Inc.",
           "TheFabulous",
           "Habitics",
           "Xavier Guillemane - Podcast & Radio Addict",
           "Xavier Guillemane - Podcast & Radio Addict",
           "BDR limited",
           "Higher Learning Technologies Inc",
           "Olly Tree Applications",
           "Skyscape Medpresso Inc",
           "Merck & Co Inc",
           "Unbound Medicine, Inc",
           "365 Positivity",
           "Apps2all",
           "Nerd Pig",
           "Merck & Co Inc",
           "Skyscape Medpresso Inc",
           "Swasth Inc.",
           "American Well",
           "Universal Projects & Tools, SL",
           "Lekta Therapy | Talk to a therapist",
           "Skyscape Medpresso Inc",
           "Skyscape Medpresso Inc",
           "FriendsApp Listing",
           "Skyscape Medpresso Inc",
           "Mobile Micromedex",
           "Recovery Today Magazine",
           "Best apps for use",
           "Own Your Sex",
           "DrFirst",
           "Advocates for Human Potential Inc.",
           "TripSit",
           "SuperVoid",
           "Michal Janecek",
           "MasterApps2020",
           "Essentl",
           "MasterApps2020",
           "MTV Mobile",
           "AtmosphereApps",
           "Apicel",
           "gWhiz",
           "SIN Lab",
           "Jonsap",
           "Meditation & Life improvement",
           "Truckers Against Trafficking",
           "GRC - RCMP",
           "MM APS",
           "MobiSystems",
           "Nerd Pig",
           "Apps Artist",
           "HS Developers",
           "drugs meter",
           "InTheRooms.com",
           "DailyReflections",
           "LUX-GAW",
           "SAMHSA",
           "App Diggity, LLC",
           "The Modi Group, Inc.",
           "GLStar Apps",
           "Psycnet Software",
           "drugs meter",
           "iByte Apps Limited",
           "Christian Applications",
           "Oleg Ovsyannikov",
           "BetterHelp - Therapy Made Easy",
           "Magnetic Lab",
           "Antoine Crosetti",
           "Psycnet Software",
           "BS Studio",
           "iByte Apps Limited",
           "Techno information",
           "WorldOfChemicals",
           "Centers for Disease Control and Prevention",
           "NOAA ORR",
           "Chemical Safety Software",
           "Kirill Sidorov",
           "Fatbelly",
           "Arne Standnes",
           "VenomouX",
           "Kirill Sidorov",
           "Royal Society of Chemistry",
           "ANZCA",
           "Dr Vincent Vandenhaute",
           "Nils Wommelsdorf",
           "Centers for Disease Control and Prevention",
           "Vikas O'Reilly-Shah",
           "Mental Health Nation",
           "Assistance Publique - Hôpitaux de paris (AP-HP)",
           "Portable Medical Technology Ltd.",
           "NEJM Group",
           "Humetrix, Inc.",
           "Elsevier Masson SAS",
           "Paired - Relationship Advice & Quiz for Couples",
           "Hello Sunday Morning.",
           "KyaliApps",
           "Jason Varughese",
           "BookMobile",
           "Martysoft, LLC",
           "Helpic Studio",
           "Surf City Apps",
           "app4daily",
           "Koshkin D&D",
           "iByte Apps Limited",
           "MindSciences Inc",
           "Esteban Selaya",
           "Submarine Limited",
           "ProgressiveLife",
           "OSHEMB dev.",
           "Anoval Projekt",
           "Adiquit s.r.o.",
           "Moast",
           "LOOK BEFORE YOU LEAP NET, LLC.",
           "Continuum",
           "ProgressiveLife",
           "The Gordon Moody Association",
           "Black Frog Studios, LLC",
           "Best Day Ever Designs",
           "ProgressiveLife",
           "Hypnohead",
           "Recovery Record",
           "Ajax Media Tech Private Limited",
           "Full Service Web Design",
           "Honeycommb",
           "Delene Kvasnicka of www.survivalebooks.com",
           "Appdev CSJ",
           "IT-Alia",
           "IT-Alia",
           "Andrew Marcus",
           "NextLOGiK, Inc.",
           "Murthy Miracles",
           "TeleHealth Group LLC",
           "Advanced Programming Solutions - APSL",
           "Usatine Media",
           "Team Excellence Health",
           "David™ Research Lab Inc.",
           "Usatine Media",
           "Innocorp Ltd",
           "Altrix Medical, LLC",
           "Hi5 Games",
           "AtStudio",
           "Hypnohead",
           "Belief Technologies",
           "Pic Soft",
           "3Dme Pty Ltd",
           "Deep Waves Ltd.",
           "BacBon Ltd.",
           "Krivian",
           "PDTanks Tech",
           "Pyramid Healthcare",
           "MOBIZEN",
           "Philipp Kreicarek",
           "Mind Diagnostics",
           "Ahmet Inan",
           "MDLIVE Inc",
           "FamilySearch International",
           "Talkspace",
           "Denimaks",
           "Michael Tiffany",
           "Singlecare, LLC",
           "Medical Group Soft",
           "Smart Training",
           "AtmosphereApps",
           "Van Solutions",
           "Mobile Micromedex",
           "Lippincott Williams Wilkins",
           "MobiSystems",
           "Mobixed LLC",
           "Advanced Educational Technology Inc",
           "Fourth Career Solutions",
           "MobiSystems",
           "MobiSystems",
           "WebMD, LLC",
           "Anmina Applications",
           "Universal Hospital LP",
           "Vikas O'Reilly-Shah",
           "SoberTool",
           "East Side Games Studio",
           "Mohammad Aldefrawy",
           "MobiSystems",
           "The Apps Studios",
           "GoodRx",
           "Lemonaid Health (LMND Medical Group, Inc.)",
           "Montuno Software, LLC",
           "iByte Apps Limited",
           "RedRobotIT",
           "Marnistek",
           "Inquiry Health LLC",
           "Sober Grid",
           "MS International",
           "Urbandroid (Petr Nálevka)",
           "iByte Apps Limited",
           "LOOK BEFORE YOU LEAP NET, LLC.",
           "Shine, Inc.",
           "The MCN Group LLC",
           "National Library of Medicine at NIH",
           "CatsProduction.Net",
           "FFZ srl",
           "American Red Cross",
           "Helpful Books",
           "EllizeApps",
           "RBJMobileApp",
           "HS Developers",
           "Sanapps Dev",
           "Pediatric Oncall",
           "leoncvlt",
           "FLX Apps",
           "SpidersDiligence",
           "Marnistek",
           "A7-studio",
           "Recovery Record",
           "Emerald Isle Studio",
           "The Recovery Tribe, Inc.",
           "iByte Apps Limited",
           "iByte Apps Limited",
           "iByte Apps Limited",
           "Sorbietysoft LLC",
           "Today.Studio",
           "JMH Apps",
           "Peak Pocket Studios",
           "Emerald Isle Studio",
           "Woebot Health",
           "Linzo Studio",
           "Media Local",
           "Sorbietysoft LLC",
           "Impact Collective",
           "NassApp",
           "YQP",
           "ALPHA SOFT",
           "bEsTcOrE Entertainment",
           "Center on Addiction and Northwell Health",
           "Illuminate Health Inc",
           "twentyStudio",
           "SoberPeer LLC",
           "OpenWings Wellness",
           "Indev Consultancy",
           "Outlook Consults Ltd",
           "Magzter Inc.",
           "TechMono360",
           "Matias Blomqvist",
           "The University of Adelaide (Official)",
           "Rajesh Roat",
           "Ateneo Laboratory for the Learning Sciences",
           "John Wiley & Sons, Inc.",
           "CureUp",
           "Lakshman Gollapalli, Sushovan Chakrabortty",
           "Defense Health Agency",
           "RxAssurance",
           "Treatment Hub 365 Developer",
           "RxAssurance",
           "TryCycle Data Systems Inc.",
           "BrainwaveX Ltd.",
           "iMedical Apps",
           "Medidex Inc.",
           "Cipherfolks It Solutions Pvt Ltd",
           "Ecstacy Apps",
           "Hypnotic World Ltd",
           "App Diggity, LLC",
           "LIGHTHOUSE",
           "Hayver",
           "CHS Trojan CS",
           "App Diggity, LLC",
           "M.V.Likhachev",
           "SR Mind",
           "Here and Now Systems",
           "Grayson App Developers",
           "Oceanhouse Media, Inc.",
           "4waydial",
           "Afradad Media",
           "Draxex",
           "Cello Apps",
           "App Smile",
           "Mental Health Content - Dr Nicholas Jenner",
           "Buzzermatrix Software",
           "App Diggity, LLC",
           "Curawella",
           "TechMono360",
           "Weedmaps",
           "WebMD, LLC",
           "Ada Health",
           "Screenzilla",
           "Insight Network Inc",
           "Podbean - Podcast & Radio & Audiobook",
           "dreamspark",
           "FeelVeryBien sarl",
           "Workit Health",
           "Dose Software",
           "Pear Therapeutics, Inc.",
           "adamz",
           "Expert Health Studio",
           "CHESS Health",
           "L.A. APPS",
           "moreQi",
           "Apps with love",
           "WeSoftLab",
           "DrugDoses for Android",
           "Rabi3",
           "KBED LLC",
           "Skyscape Medpresso Inc",
           "PioneerRx, LLC",
           "SOLUTION-PRO",
           "SAMHSA",
           "Recovering(me)",
           "iByte Apps Limited",
           "iByte Apps Limited",
           "Mario Herzberg (Hanna)",
           "DR OLUWASEGUN WAHAAB",
           "DeveloperJam",
           "Astma-Allergi Danmark",
           "Dr Pharma",
           "Jason Hartley",
           "NYC Dept. of Health and Mental Hygiene",
           "PTX Therapy LLC",
           "Hinge Health, Inc.",
           "Medtouch Software Médico Inteligente",
           "Messil inc.",
           "ViaDirect par L'île des Médias",
           "Shoonger",
           "Al-Anon Family Group Headquarters Inc",
           "Berner Gesundheit",
           "iByte Apps Limited",
           "CaPASSCité",
           "ProgressiveLife",
           "HLAPPS",
           "United For Her Pvt Ltd",
           "Advanced Educational Technology Inc",
           "ProgressiveLife",
           "ProgressiveLife",
           "Enfoglobe LLC",
           "SAMHSA",
           "Jcreativa",
           "Kognito",
           "SaundersApps",
           "Newbird",
           "Philippe El Asmar",
           "PINTO SOFTWARE PRODUCTS",
           "Stress Refuge, Inc.",
           "SekamCo",
           "Patient Data Science, LLC. New York, USA",
           "Subsplash Inc",
           "BrainwaveX Ltd.",
           "Randy Withers",
           "Swasth Inc.",
           "QuizOver.com",
           "RF Developments",
           "Van Solutions",
           "GO Travel Maps Tech",
           "Rooh Lyric",
           "Recovery Record",
           "Unbound Medicine, Inc",
           "gaga.chat",
           "Medical Group Soft",
           "PDR, LLC.",
           "Educational Concepts, L.L.C",
           "PioneerRx, LLC",
           "Pocket Rehab",
           "Loosid App LLC",
           "Swasth Inc.",
           "Bobbi McWilliams",
           "Nerd Pig",
           "Alcohol Change UK",
           "Tikamori",
           "Parker Stech",
           "BookMobile",
           "Bull Laboratories (BullLabs.com) Development Team",
           "GoodRx",
           "Recovery Record",
           "shen-apps.com (EN, DE, ESP, IT, PT, Pусский, 中国)",
           "Pustaka Dewi",
           "MC_LANG",
           "Kirill Sidorov",
           "JuBat",
           "Kirill Sidorov",
           "ASPCA Animal Poison Control Center",
           "Vikas O'Reilly-Shah",
           "NEJM Group",
           "MOANESS",
           "Les Amis d'Antibioclic",
           "Artur Voicehovic",
           "Dean Huff",
           "Recovery Warriors",
           "BetterHelp - Therapy Made Easy",
           "SYSTWEAK SOFTWARE PRIVATE LIMITED",
           "SR Group",
           "Mystic Valley Public Health Coalition",
           "RECOVERYIP INNOVATIONS LLC",
           "Socio Labs Inc",
           "Enfoglobe LLC",
           "StarterHomeApp",
           "Verily Life Sciences LLC",
           "HemiSphere Studio",
           "NEWLINE TECHNOLOGIES LIMITED",
           "Kognito",
           "Thrivee, Inc.",
           "RPR Technologies",
           "Empiric Health Inc.",
           "Advanced Programming Solutions - APSL",
           "Digitalant",
           "Shahinur Rahman Shajeeb",
           "WeRecover",
           "Ike Newton",
           "Sociosoftware",
           "iNaturalist",
           "Sunshine Health Studios",
           "LDRLY Games",
           "MobiSystems",
           "I Am Sober LLC",
           "Mario Herzberg (Hanna)",
           "Stop M",
           "NA World Services, Inc.",
           "stem4",
           "Naticis",
           "Knorre",
           "Smiling Mind",
           "HealthEngine Pty Ltd",
           "Gaia, Inc.",
           "MD Aware, LLC",
           "Gaia, Inc.",
           "Vidal®",
           "LifeOmic",
           "Gaia, Inc.",
           "Mario Herzberg (Hanna)",
           "topotApps",
           "Jackson Tempra",
           "Aware Team Apps",
           "Reboot Your Life",
           "ProgressiveLife",
           "App Diggity, LLC",
           "Mindwave Ventures",
           "App Diggity, LLC",
           "bedieman",
           "The University of Adelaide (Official)",
           "Mind Solutions Ltd",
           "Ysfmamman",
           "moreQi",
           "bedieman",
           "Best Top Daily Guide & Info",
           "Buddy C.",
           "Mobile Seva",
           "Mind Help LTD",
           "Sober Connect",
           "Peterson's LLC",
           "Health Info",
           "Amston Studio",
           "USWorldMeds, LLC",
           "Kardiia LLC",
           "Health Info",
           "Börm Bruckmeier Publishing LLC",
           "SolutionSappS7",
           "Kym Tolson & Hani Al-Qasem",
           "CaredFor",
           "Recovery Designed Limited",
           "Mystictech966",
           "John Wiley & Sons, Inc.",
           "idk. software",
           "SR Mind",
           "Kim Fleckenstein",
           "Boulder Care",
           "MedCircle Inc.",
           "Zeninfotechs"
          ],
          "target": [
           "Medical",
           "Medical",
           "Health & Fitness",
           "Health & Fitness",
           "Health & Fitness",
           "Medical",
           "Medical",
           "Medical",
           "Health & Fitness",
           "Health & Fitness",
           "Health & Fitness",
           "Health & Fitness",
           "Simulation",
           "Health & Fitness",
           "Medical",
           "Productivity",
           "Productivity",
           "Productivity",
           "Lifestyle",
           "Health & Fitness",
           "Medical",
           "Education",
           "Health & Fitness",
           "Entertainment",
           "Education",
           "Medical",
           "Medical",
           "Health & Fitness",
           "Medical",
           "Lifestyle",
           "Education",
           "Books & Reference",
           "Health & Fitness",
           "Lifestyle",
           "Medical",
           "Health & Fitness",
           "Education",
           "Medical",
           "Medical",
           "Health & Fitness",
           "Education",
           "Books & Reference",
           "Medical",
           "Health & Fitness",
           "Education",
           "Medical",
           "Medical",
           "Medical",
           "Medical",
           "Medical",
           "Lifestyle",
           "Medical",
           "Health & Fitness",
           "Health & Fitness",
           "Health & Fitness",
           "Lifestyle",
           "Health & Fitness",
           "Health & Fitness",
           "Health & Fitness",
           "Health & Fitness",
           "Medical",
           "Health & Fitness",
           "Health & Fitness",
           "Education",
           "Lifestyle",
           "Medical",
           "Health & Fitness",
           "Health & Fitness",
           "Health & Fitness",
           "Education",
           "Productivity",
           "Medical",
           "Productivity",
           "Health & Fitness",
           "Books & Reference",
           "Medical",
           "Productivity",
           "Health & Fitness",
           "Health & Fitness",
           "Health & Fitness",
           "Medical",
           "Medical",
           "Health & Fitness",
           "Medical",
           "Medical",
           "Medical",
           "Medical",
           "Medical",
           "Medical",
           "Productivity",
           "Lifestyle",
           "Health & Fitness",
           "Health & Fitness",
           "Entertainment",
           "Health & Fitness",
           "Health & Fitness",
           "Health & Fitness",
           "Books & Reference",
           "Health & Fitness",
           "Health & Fitness",
           "Health & Fitness",
           "Books & Reference",
           "Lifestyle",
           "Books & Reference",
           "Books & Reference",
           "Health & Fitness",
           "Entertainment",
           "Lifestyle",
           "Medical",
           "Health & Fitness",
           "Health & Fitness",
           "Medical",
           "Lifestyle",
           "Health & Fitness",
           "Health & Fitness",
           "Education",
           "Lifestyle",
           "Health & Fitness",
           "Lifestyle",
           "Health & Fitness",
           "Health & Fitness",
           "Health & Fitness",
           "Health & Fitness",
           "Health & Fitness",
           "Health & Fitness",
           "Lifestyle",
           "Education",
           "Health & Fitness",
           "Health & Fitness",
           "Productivity",
           "Health & Fitness",
           "Health & Fitness",
           "Education",
           "Education",
           "Medical",
           "Health & Fitness",
           "Education",
           "Medical",
           "Medical",
           "Events",
           "Simulation",
           "Health & Fitness",
           "Education",
           "Simulation",
           "Health & Fitness",
           "Health & Fitness",
           "Lifestyle",
           "News & Magazines",
           "News & Magazines",
           "Medical",
           "Education",
           "Medical",
           "Medical",
           "Medical",
           "Medical",
           "Medical",
           "Medical",
           "Lifestyle",
           "Medical",
           "Medical",
           "Health & Fitness",
           "Medical",
           "Medical",
           "Health & Fitness",
           "Medical",
           "Medical",
           "Medical",
           "Medical",
           "Medical",
           "Health & Fitness",
           "Medical",
           "Entertainment",
           "Medical",
           "Health & Fitness",
           "Education",
           "Health & Fitness",
           "Lifestyle",
           "Medical",
           "Health & Fitness",
           "Medical",
           "Medical",
           "Medical",
           "Medical",
           "Education",
           "Education",
           "Medical",
           "Health & Fitness",
           "Communication",
           "Education",
           "Medical",
           "Medical",
           "Lifestyle",
           "Medical",
           "Education",
           "Health & Fitness",
           "Communication",
           "Books & Reference",
           "Health & Fitness",
           "Medical",
           "Health & Fitness",
           "Health & Fitness",
           "Lifestyle",
           "Education",
           "Health & Fitness",
           "Health & Fitness",
           "Lifestyle",
           "Health & Fitness",
           "Health & Fitness",
           "Health & Fitness",
           "Health & Fitness",
           "Education",
           "Health & Fitness",
           "Education",
           "Health & Fitness",
           "News & Magazines",
           "Health & Fitness",
           "Tools",
           "Productivity",
           "Books & Reference",
           "Medical",
           "Education",
           "Education",
           "Books & Reference",
           "News & Magazines",
           "Medical",
           "Medical",
           "Medical",
           "Medical",
           "Medical",
           "Medical",
           "Medical",
           "Medical",
           "Medical",
           "Medical",
           "Medical",
           "Health & Fitness",
           "Health & Fitness",
           "Lifestyle",
           "Health & Fitness",
           "Books & Reference",
           "Health & Fitness",
           "Lifestyle",
           "Lifestyle",
           "Health & Fitness",
           "Health & Fitness",
           "Lifestyle",
           "Health & Fitness",
           "Lifestyle",
           "Health & Fitness",
           "Lifestyle",
           "Health & Fitness",
           "Health & Fitness",
           "Health & Fitness",
           "Lifestyle",
           "Lifestyle",
           "Health & Fitness",
           "Lifestyle",
           "Health & Fitness",
           "Health & Fitness",
           "Health & Fitness",
           "Medical",
           "Health & Fitness",
           "Medical",
           "Education",
           "Health & Fitness",
           "Social",
           "Medical",
           "News & Magazines",
           "Productivity",
           "Productivity",
           "Education",
           "Education",
           "Medical",
           "Education",
           "Health & Fitness",
           "Medical",
           "Medical",
           "Books & Reference",
           "Medical",
           "Education",
           "Productivity",
           "Health & Fitness",
           "Lifestyle",
           "Health & Fitness",
           "Lifestyle",
           "Health & Fitness",
           "Health & Fitness",
           "Health & Fitness",
           "Health & Fitness",
           "Books & Reference",
           "House & Home",
           "Medical",
           "Productivity",
           "Health & Fitness",
           "Medical",
           "Communication",
           "Medical",
           "Books & Reference",
           "Health & Fitness",
           "Lifestyle",
           "Health & Fitness",
           "Medical",
           "Medical",
           "Medical",
           "Medical",
           "Medical",
           "Medical",
           "Medical",
           "Medical",
           "Medical",
           "Education",
           "Medical",
           "Medical",
           "Medical",
           "Health & Fitness",
           "Medical",
           "Medical",
           "Medical",
           "Lifestyle",
           "Simulation",
           "Medical",
           "Medical",
           "Medical",
           "Medical",
           "Medical",
           "Medical",
           "Lifestyle",
           "Lifestyle",
           "Lifestyle",
           "Health & Fitness",
           "Lifestyle",
           "Health & Fitness",
           "Health & Fitness",
           "Lifestyle",
           "Lifestyle",
           "Health & Fitness",
           "Medical",
           "Medical",
           "Education",
           "Health & Fitness",
           "Medical",
           "Books & Reference",
           "Education",
           "Health & Fitness",
           "Education",
           "Medical",
           "Medical",
           "Lifestyle",
           "Health & Fitness",
           "Health & Fitness",
           "Lifestyle",
           "Health & Fitness",
           "Health & Fitness",
           "Lifestyle",
           "Lifestyle",
           "Lifestyle",
           "Lifestyle",
           "Lifestyle",
           "Books & Reference",
           "Health & Fitness",
           "Health & Fitness",
           "Health & Fitness",
           "Lifestyle",
           "Medical",
           "Health & Fitness",
           "Lifestyle",
           "Books & Reference",
           "Education",
           "Medical",
           "Books & Reference",
           "Health & Fitness",
           "Education",
           "Medical",
           "Health & Fitness",
           "Health & Fitness",
           "Health & Fitness",
           "Health & Fitness",
           "Health & Fitness",
           "Education",
           "Lifestyle",
           "Books & Reference",
           "Medical",
           "Medical",
           "Books & Reference",
           "Education",
           "Education",
           "Health & Fitness",
           "Medical",
           "Medical",
           "Health & Fitness",
           "Health & Fitness",
           "Health & Fitness",
           "Health & Fitness",
           "Health & Fitness",
           "Medical",
           "Medical",
           "Education",
           "Health & Fitness",
           "Health & Fitness",
           "Health & Fitness",
           "Lifestyle",
           "Health & Fitness",
           "Medical",
           "Health & Fitness",
           "Health & Fitness",
           "Health & Fitness",
           "Health & Fitness",
           "Lifestyle",
           "Lifestyle",
           "Health & Fitness",
           "Books & Reference",
           "Productivity",
           "Books & Reference",
           "Health & Fitness",
           "Health & Fitness",
           "Health & Fitness",
           "Health & Fitness",
           "Medical",
           "Books & Reference",
           "Medical",
           "Medical",
           "Medical",
           "Simulation",
           "Health & Fitness",
           "News & Magazines",
           "Health & Fitness",
           "Health & Fitness",
           "Medical",
           "Health & Fitness",
           "Medical",
           "Education",
           "Health & Fitness",
           "Health & Fitness",
           "Social",
           "Health & Fitness",
           "Health & Fitness",
           "Medical",
           "Medical",
           "Books & Reference",
           "Medical",
           "Medical",
           "Medical",
           "Medical",
           "Medical",
           "Health & Fitness",
           "Lifestyle",
           "Lifestyle",
           "Health & Fitness",
           "Health & Fitness",
           "Health & Fitness",
           "Health & Fitness",
           "Education",
           "Medical",
           "Medical",
           "Health & Fitness",
           "Health & Fitness",
           "Medical",
           "Medical",
           "Medical",
           "Health & Fitness",
           "Communication",
           "Health & Fitness",
           "Lifestyle",
           "Health & Fitness",
           "Lifestyle",
           "Health & Fitness",
           "Health & Fitness",
           "Education",
           "Lifestyle",
           "Medical",
           "Medical",
           "Education",
           "Tools",
           "Health & Fitness",
           "Medical",
           "Medical",
           "Health & Fitness",
           "Health & Fitness",
           "Health & Fitness",
           "Lifestyle",
           "Health & Fitness",
           "Lifestyle",
           "Health & Fitness",
           "Health & Fitness",
           "Health & Fitness",
           "Education",
           "Health & Fitness",
           "Medical",
           "Medical",
           "Education",
           "Medical",
           "Medical",
           "Communication",
           "Medical",
           "Medical",
           "Medical",
           "Medical",
           "Health & Fitness",
           "Social",
           "Health & Fitness",
           "Lifestyle",
           "Lifestyle",
           "Health & Fitness",
           "Health & Fitness",
           "Lifestyle",
           "Books & Reference",
           "Health & Fitness",
           "Medical",
           "Medical",
           "Medical",
           "Books & Reference",
           "Books & Reference",
           "Books & Reference",
           "Health & Fitness",
           "Books & Reference",
           "Books & Reference",
           "Medical",
           "Medical",
           "Medical",
           "Medical",
           "Health & Fitness",
           "Lifestyle",
           "Health & Fitness",
           "Health & Fitness",
           "Health & Fitness",
           "Health & Fitness",
           "Education",
           "Medical",
           "Communication",
           "Medical",
           "Lifestyle",
           "Medical",
           "Health & Fitness",
           "Education",
           "Education",
           "Medical",
           "Books & Reference",
           "Health & Fitness",
           "Health & Fitness",
           "Health & Fitness",
           "Education",
           "Health & Fitness",
           "Books & Reference",
           "Lifestyle",
           "Education",
           "Health & Fitness",
           "Simulation",
           "Medical",
           "Lifestyle",
           "Health & Fitness",
           "Lifestyle",
           "Health & Fitness",
           "Health & Fitness",
           "Productivity",
           "Books & Reference",
           "Health & Fitness",
           "Health & Fitness",
           "Lifestyle",
           "Medical",
           "Lifestyle",
           "Medical",
           "Health & Fitness",
           "Lifestyle",
           "Health & Fitness",
           "Lifestyle",
           "Health & Fitness",
           "Lifestyle",
           "Lifestyle",
           "Lifestyle",
           "Health & Fitness",
           "Medical",
           "Health & Fitness",
           "Health & Fitness",
           "Medical",
           "Education",
           "Education",
           "Health & Fitness",
           "Health & Fitness",
           "Health & Fitness",
           "Health & Fitness",
           "Education",
           "Health & Fitness",
           "Health & Fitness",
           "Education",
           "Medical",
           "Medical",
           "Medical",
           "Medical",
           "Medical",
           "Medical",
           "Health & Fitness",
           "Health & Fitness",
           "Health & Fitness",
           "Health & Fitness",
           "Entertainment",
           "News & Magazines",
           "Lifestyle",
           "Health & Fitness",
           "Health & Fitness",
           "Health & Fitness",
           "Medical",
           "Health & Fitness"
          ],
          "value": [
           0,
           0,
           0,
           0,
           1000000,
           1000000,
           1000000,
           1000000,
           1000000,
           1000000,
           1000000,
           1000000,
           1000000,
           1000000,
           1000000,
           1000000,
           1000000,
           1000000,
           1000000,
           1000,
           1000,
           1000,
           1000,
           1000,
           1000,
           1000,
           1000,
           1000,
           1000,
           1000,
           1000,
           1000,
           1000,
           1000,
           1000,
           1000,
           1000,
           1000,
           1000,
           1000,
           1000,
           1000,
           1000,
           1000,
           1000,
           1000,
           1000,
           1000,
           1000,
           1000,
           1000,
           1000,
           1000,
           1000,
           1000,
           1000,
           1000,
           1000,
           1000,
           1000,
           1000,
           1000,
           1000,
           1000,
           1000,
           1000,
           1000,
           1000,
           1000,
           1000,
           1000,
           1000,
           1000,
           1000,
           1000,
           1000,
           1000,
           1000,
           1000,
           1000,
           1000,
           1000,
           1000,
           1000,
           1000,
           1000,
           1000,
           1000,
           1000,
           1000,
           1000,
           1000,
           1000,
           1000,
           1000,
           1000,
           1000,
           1000,
           1000,
           1000,
           1000,
           1000,
           1000,
           1000,
           1000,
           1000,
           1000,
           1000,
           1000,
           1000,
           1000,
           1000,
           1000,
           1000,
           1000,
           1000,
           1000,
           1000,
           1000,
           1000,
           1000,
           1000,
           1000,
           1000,
           1000,
           1000,
           1000,
           1000,
           1000,
           1000,
           1000,
           1000,
           1000,
           1,
           1,
           1,
           1,
           1,
           1,
           1,
           10000000,
           10000000,
           10000000,
           10000000,
           10000000,
           10000000,
           10000000,
           10000000,
           10000000,
           10000,
           10000,
           10000,
           10000,
           10000,
           10000,
           10000,
           10000,
           10000,
           10000,
           10000,
           10000,
           10000,
           10000,
           10000,
           10000,
           10000,
           10000,
           10000,
           10000,
           10000,
           10000,
           10000,
           10000,
           10000,
           10000,
           10000,
           10000,
           10000,
           10000,
           10000,
           10000,
           10000,
           10000,
           10000,
           10000,
           10000,
           10000,
           10000,
           10000,
           10000,
           10000,
           10000,
           10000,
           10000,
           10000,
           10000,
           10000,
           10000,
           10000,
           10000,
           10000,
           10000,
           10000,
           10000,
           10000,
           10000,
           10000,
           10000,
           10000,
           10000,
           10000,
           10000,
           10000,
           10000,
           10000,
           10000,
           10000,
           10000,
           10000,
           10000,
           10000,
           10000,
           10000,
           10000,
           10000,
           10000,
           10000,
           10000,
           10000,
           10000,
           10000,
           10000,
           10000,
           10000,
           10000,
           10000,
           10000,
           10000,
           10000,
           10000,
           10000,
           10000,
           10000,
           10000,
           10000,
           10000,
           10000,
           10000,
           10000,
           10000,
           10000,
           10000,
           10000,
           10000,
           10000,
           10000,
           10000,
           10000,
           10000,
           10000,
           10000,
           10,
           10,
           10,
           10,
           10,
           10,
           10,
           10,
           10,
           10,
           10,
           10,
           10,
           10,
           10,
           10,
           10,
           10,
           10,
           10,
           10,
           10,
           10,
           10,
           10,
           10,
           10,
           10,
           10,
           10,
           10,
           100000000,
           100000,
           100000,
           100000,
           100000,
           100000,
           100000,
           100000,
           100000,
           100000,
           100000,
           100000,
           100000,
           100000,
           100000,
           100000,
           100000,
           100000,
           100000,
           100000,
           100000,
           100000,
           100000,
           100000,
           100000,
           100000,
           100000,
           100000,
           100000,
           100000,
           100000,
           100000,
           100000,
           100000,
           100000,
           100000,
           100000,
           100000,
           100000,
           100000,
           100000,
           100000,
           100000,
           100000,
           100000,
           100000,
           100000,
           100000,
           100000,
           100000,
           100000,
           100000,
           100000,
           100000,
           100000,
           100000,
           100000,
           100000,
           100000,
           100000,
           100000,
           100000,
           100000,
           100000,
           100000,
           100000,
           100000,
           100000,
           100000,
           100000,
           100000,
           100000,
           100000,
           100000,
           100000,
           100000,
           100,
           100,
           100,
           100,
           100,
           100,
           100,
           100,
           100,
           100,
           100,
           100,
           100,
           100,
           100,
           100,
           100,
           100,
           100,
           100,
           100,
           100,
           100,
           100,
           100,
           100,
           100,
           100,
           100,
           100,
           100,
           100,
           100,
           100,
           100,
           100,
           100,
           100,
           100,
           100,
           100,
           100,
           100,
           100,
           100,
           100,
           100,
           100,
           100,
           100,
           100,
           5000000,
           5000000,
           5000000,
           5000000,
           5000000,
           5000000,
           5000000,
           5000000,
           5000,
           5000,
           5000,
           5000,
           5000,
           5000,
           5000,
           5000,
           5000,
           5000,
           5000,
           5000,
           5000,
           5000,
           5000,
           5000,
           5000,
           5000,
           5000,
           5000,
           5000,
           5000,
           5000,
           5000,
           5000,
           5000,
           5000,
           5000,
           5000,
           5000,
           5000,
           5000,
           5000,
           5000,
           5000,
           5000,
           5000,
           5000,
           5000,
           5000,
           5000,
           5000,
           5000,
           5,
           5,
           5,
           5,
           5,
           5,
           5,
           5,
           5,
           5,
           5,
           5,
           5,
           5,
           50000,
           50000,
           50000,
           50000,
           50000,
           50000,
           50000,
           50000,
           50000,
           50000,
           50000,
           50000,
           50000,
           50000,
           50000,
           50000,
           50000,
           50000,
           50000,
           50000,
           50000,
           50000,
           50000,
           50000,
           50000,
           50000,
           50000,
           50000,
           50000,
           50000,
           50000,
           50000,
           50000,
           50000,
           50000,
           50000,
           50000,
           50000,
           50000,
           50000,
           50000,
           50000,
           50,
           50,
           50,
           50,
           50,
           50,
           50,
           50,
           50,
           50,
           50,
           50,
           50,
           50,
           50,
           50,
           50,
           500000,
           500000,
           500000,
           500000,
           500000,
           500000,
           500000,
           500000,
           500000,
           500000,
           500000,
           500000,
           500000,
           500000,
           500000,
           500000,
           500000,
           500000,
           500000,
           500000,
           500000,
           500000,
           500000,
           500000,
           500000,
           500000,
           500,
           500,
           500,
           500,
           500,
           500,
           500,
           500,
           500,
           500,
           500,
           500,
           500,
           500,
           500,
           500,
           500,
           500,
           500,
           500,
           500,
           500,
           500,
           500,
           500,
           500,
           500,
           500,
           500,
           500,
           500,
           500,
           500
          ]
         },
         "node": {
          "color": "blue",
          "line": {
           "color": "green",
           "width": 0.1
          },
          "thickness": 5
         },
         "type": "sankey"
        }
       ],
       "layout": {
        "template": {
         "data": {
          "bar": [
           {
            "error_x": {
             "color": "#2a3f5f"
            },
            "error_y": {
             "color": "#2a3f5f"
            },
            "marker": {
             "line": {
              "color": "#E5ECF6",
              "width": 0.5
             }
            },
            "type": "bar"
           }
          ],
          "barpolar": [
           {
            "marker": {
             "line": {
              "color": "#E5ECF6",
              "width": 0.5
             }
            },
            "type": "barpolar"
           }
          ],
          "carpet": [
           {
            "aaxis": {
             "endlinecolor": "#2a3f5f",
             "gridcolor": "white",
             "linecolor": "white",
             "minorgridcolor": "white",
             "startlinecolor": "#2a3f5f"
            },
            "baxis": {
             "endlinecolor": "#2a3f5f",
             "gridcolor": "white",
             "linecolor": "white",
             "minorgridcolor": "white",
             "startlinecolor": "#2a3f5f"
            },
            "type": "carpet"
           }
          ],
          "choropleth": [
           {
            "colorbar": {
             "outlinewidth": 0,
             "ticks": ""
            },
            "type": "choropleth"
           }
          ],
          "contour": [
           {
            "colorbar": {
             "outlinewidth": 0,
             "ticks": ""
            },
            "colorscale": [
             [
              0,
              "#0d0887"
             ],
             [
              0.1111111111111111,
              "#46039f"
             ],
             [
              0.2222222222222222,
              "#7201a8"
             ],
             [
              0.3333333333333333,
              "#9c179e"
             ],
             [
              0.4444444444444444,
              "#bd3786"
             ],
             [
              0.5555555555555556,
              "#d8576b"
             ],
             [
              0.6666666666666666,
              "#ed7953"
             ],
             [
              0.7777777777777778,
              "#fb9f3a"
             ],
             [
              0.8888888888888888,
              "#fdca26"
             ],
             [
              1,
              "#f0f921"
             ]
            ],
            "type": "contour"
           }
          ],
          "contourcarpet": [
           {
            "colorbar": {
             "outlinewidth": 0,
             "ticks": ""
            },
            "type": "contourcarpet"
           }
          ],
          "heatmap": [
           {
            "colorbar": {
             "outlinewidth": 0,
             "ticks": ""
            },
            "colorscale": [
             [
              0,
              "#0d0887"
             ],
             [
              0.1111111111111111,
              "#46039f"
             ],
             [
              0.2222222222222222,
              "#7201a8"
             ],
             [
              0.3333333333333333,
              "#9c179e"
             ],
             [
              0.4444444444444444,
              "#bd3786"
             ],
             [
              0.5555555555555556,
              "#d8576b"
             ],
             [
              0.6666666666666666,
              "#ed7953"
             ],
             [
              0.7777777777777778,
              "#fb9f3a"
             ],
             [
              0.8888888888888888,
              "#fdca26"
             ],
             [
              1,
              "#f0f921"
             ]
            ],
            "type": "heatmap"
           }
          ],
          "heatmapgl": [
           {
            "colorbar": {
             "outlinewidth": 0,
             "ticks": ""
            },
            "colorscale": [
             [
              0,
              "#0d0887"
             ],
             [
              0.1111111111111111,
              "#46039f"
             ],
             [
              0.2222222222222222,
              "#7201a8"
             ],
             [
              0.3333333333333333,
              "#9c179e"
             ],
             [
              0.4444444444444444,
              "#bd3786"
             ],
             [
              0.5555555555555556,
              "#d8576b"
             ],
             [
              0.6666666666666666,
              "#ed7953"
             ],
             [
              0.7777777777777778,
              "#fb9f3a"
             ],
             [
              0.8888888888888888,
              "#fdca26"
             ],
             [
              1,
              "#f0f921"
             ]
            ],
            "type": "heatmapgl"
           }
          ],
          "histogram": [
           {
            "marker": {
             "colorbar": {
              "outlinewidth": 0,
              "ticks": ""
             }
            },
            "type": "histogram"
           }
          ],
          "histogram2d": [
           {
            "colorbar": {
             "outlinewidth": 0,
             "ticks": ""
            },
            "colorscale": [
             [
              0,
              "#0d0887"
             ],
             [
              0.1111111111111111,
              "#46039f"
             ],
             [
              0.2222222222222222,
              "#7201a8"
             ],
             [
              0.3333333333333333,
              "#9c179e"
             ],
             [
              0.4444444444444444,
              "#bd3786"
             ],
             [
              0.5555555555555556,
              "#d8576b"
             ],
             [
              0.6666666666666666,
              "#ed7953"
             ],
             [
              0.7777777777777778,
              "#fb9f3a"
             ],
             [
              0.8888888888888888,
              "#fdca26"
             ],
             [
              1,
              "#f0f921"
             ]
            ],
            "type": "histogram2d"
           }
          ],
          "histogram2dcontour": [
           {
            "colorbar": {
             "outlinewidth": 0,
             "ticks": ""
            },
            "colorscale": [
             [
              0,
              "#0d0887"
             ],
             [
              0.1111111111111111,
              "#46039f"
             ],
             [
              0.2222222222222222,
              "#7201a8"
             ],
             [
              0.3333333333333333,
              "#9c179e"
             ],
             [
              0.4444444444444444,
              "#bd3786"
             ],
             [
              0.5555555555555556,
              "#d8576b"
             ],
             [
              0.6666666666666666,
              "#ed7953"
             ],
             [
              0.7777777777777778,
              "#fb9f3a"
             ],
             [
              0.8888888888888888,
              "#fdca26"
             ],
             [
              1,
              "#f0f921"
             ]
            ],
            "type": "histogram2dcontour"
           }
          ],
          "mesh3d": [
           {
            "colorbar": {
             "outlinewidth": 0,
             "ticks": ""
            },
            "type": "mesh3d"
           }
          ],
          "parcoords": [
           {
            "line": {
             "colorbar": {
              "outlinewidth": 0,
              "ticks": ""
             }
            },
            "type": "parcoords"
           }
          ],
          "pie": [
           {
            "automargin": true,
            "type": "pie"
           }
          ],
          "scatter": [
           {
            "marker": {
             "colorbar": {
              "outlinewidth": 0,
              "ticks": ""
             }
            },
            "type": "scatter"
           }
          ],
          "scatter3d": [
           {
            "line": {
             "colorbar": {
              "outlinewidth": 0,
              "ticks": ""
             }
            },
            "marker": {
             "colorbar": {
              "outlinewidth": 0,
              "ticks": ""
             }
            },
            "type": "scatter3d"
           }
          ],
          "scattercarpet": [
           {
            "marker": {
             "colorbar": {
              "outlinewidth": 0,
              "ticks": ""
             }
            },
            "type": "scattercarpet"
           }
          ],
          "scattergeo": [
           {
            "marker": {
             "colorbar": {
              "outlinewidth": 0,
              "ticks": ""
             }
            },
            "type": "scattergeo"
           }
          ],
          "scattergl": [
           {
            "marker": {
             "colorbar": {
              "outlinewidth": 0,
              "ticks": ""
             }
            },
            "type": "scattergl"
           }
          ],
          "scattermapbox": [
           {
            "marker": {
             "colorbar": {
              "outlinewidth": 0,
              "ticks": ""
             }
            },
            "type": "scattermapbox"
           }
          ],
          "scatterpolar": [
           {
            "marker": {
             "colorbar": {
              "outlinewidth": 0,
              "ticks": ""
             }
            },
            "type": "scatterpolar"
           }
          ],
          "scatterpolargl": [
           {
            "marker": {
             "colorbar": {
              "outlinewidth": 0,
              "ticks": ""
             }
            },
            "type": "scatterpolargl"
           }
          ],
          "scatterternary": [
           {
            "marker": {
             "colorbar": {
              "outlinewidth": 0,
              "ticks": ""
             }
            },
            "type": "scatterternary"
           }
          ],
          "surface": [
           {
            "colorbar": {
             "outlinewidth": 0,
             "ticks": ""
            },
            "colorscale": [
             [
              0,
              "#0d0887"
             ],
             [
              0.1111111111111111,
              "#46039f"
             ],
             [
              0.2222222222222222,
              "#7201a8"
             ],
             [
              0.3333333333333333,
              "#9c179e"
             ],
             [
              0.4444444444444444,
              "#bd3786"
             ],
             [
              0.5555555555555556,
              "#d8576b"
             ],
             [
              0.6666666666666666,
              "#ed7953"
             ],
             [
              0.7777777777777778,
              "#fb9f3a"
             ],
             [
              0.8888888888888888,
              "#fdca26"
             ],
             [
              1,
              "#f0f921"
             ]
            ],
            "type": "surface"
           }
          ],
          "table": [
           {
            "cells": {
             "fill": {
              "color": "#EBF0F8"
             },
             "line": {
              "color": "white"
             }
            },
            "header": {
             "fill": {
              "color": "#C8D4E3"
             },
             "line": {
              "color": "white"
             }
            },
            "type": "table"
           }
          ]
         },
         "layout": {
          "annotationdefaults": {
           "arrowcolor": "#2a3f5f",
           "arrowhead": 0,
           "arrowwidth": 1
          },
          "coloraxis": {
           "colorbar": {
            "outlinewidth": 0,
            "ticks": ""
           }
          },
          "colorscale": {
           "diverging": [
            [
             0,
             "#8e0152"
            ],
            [
             0.1,
             "#c51b7d"
            ],
            [
             0.2,
             "#de77ae"
            ],
            [
             0.3,
             "#f1b6da"
            ],
            [
             0.4,
             "#fde0ef"
            ],
            [
             0.5,
             "#f7f7f7"
            ],
            [
             0.6,
             "#e6f5d0"
            ],
            [
             0.7,
             "#b8e186"
            ],
            [
             0.8,
             "#7fbc41"
            ],
            [
             0.9,
             "#4d9221"
            ],
            [
             1,
             "#276419"
            ]
           ],
           "sequential": [
            [
             0,
             "#0d0887"
            ],
            [
             0.1111111111111111,
             "#46039f"
            ],
            [
             0.2222222222222222,
             "#7201a8"
            ],
            [
             0.3333333333333333,
             "#9c179e"
            ],
            [
             0.4444444444444444,
             "#bd3786"
            ],
            [
             0.5555555555555556,
             "#d8576b"
            ],
            [
             0.6666666666666666,
             "#ed7953"
            ],
            [
             0.7777777777777778,
             "#fb9f3a"
            ],
            [
             0.8888888888888888,
             "#fdca26"
            ],
            [
             1,
             "#f0f921"
            ]
           ],
           "sequentialminus": [
            [
             0,
             "#0d0887"
            ],
            [
             0.1111111111111111,
             "#46039f"
            ],
            [
             0.2222222222222222,
             "#7201a8"
            ],
            [
             0.3333333333333333,
             "#9c179e"
            ],
            [
             0.4444444444444444,
             "#bd3786"
            ],
            [
             0.5555555555555556,
             "#d8576b"
            ],
            [
             0.6666666666666666,
             "#ed7953"
            ],
            [
             0.7777777777777778,
             "#fb9f3a"
            ],
            [
             0.8888888888888888,
             "#fdca26"
            ],
            [
             1,
             "#f0f921"
            ]
           ]
          },
          "colorway": [
           "#636efa",
           "#EF553B",
           "#00cc96",
           "#ab63fa",
           "#FFA15A",
           "#19d3f3",
           "#FF6692",
           "#B6E880",
           "#FF97FF",
           "#FECB52"
          ],
          "font": {
           "color": "#2a3f5f"
          },
          "geo": {
           "bgcolor": "white",
           "lakecolor": "white",
           "landcolor": "#E5ECF6",
           "showlakes": true,
           "showland": true,
           "subunitcolor": "white"
          },
          "hoverlabel": {
           "align": "left"
          },
          "hovermode": "closest",
          "mapbox": {
           "style": "light"
          },
          "paper_bgcolor": "white",
          "plot_bgcolor": "#E5ECF6",
          "polar": {
           "angularaxis": {
            "gridcolor": "white",
            "linecolor": "white",
            "ticks": ""
           },
           "bgcolor": "#E5ECF6",
           "radialaxis": {
            "gridcolor": "white",
            "linecolor": "white",
            "ticks": ""
           }
          },
          "scene": {
           "xaxis": {
            "backgroundcolor": "#E5ECF6",
            "gridcolor": "white",
            "gridwidth": 2,
            "linecolor": "white",
            "showbackground": true,
            "ticks": "",
            "zerolinecolor": "white"
           },
           "yaxis": {
            "backgroundcolor": "#E5ECF6",
            "gridcolor": "white",
            "gridwidth": 2,
            "linecolor": "white",
            "showbackground": true,
            "ticks": "",
            "zerolinecolor": "white"
           },
           "zaxis": {
            "backgroundcolor": "#E5ECF6",
            "gridcolor": "white",
            "gridwidth": 2,
            "linecolor": "white",
            "showbackground": true,
            "ticks": "",
            "zerolinecolor": "white"
           }
          },
          "shapedefaults": {
           "line": {
            "color": "#2a3f5f"
           }
          },
          "ternary": {
           "aaxis": {
            "gridcolor": "white",
            "linecolor": "white",
            "ticks": ""
           },
           "baxis": {
            "gridcolor": "white",
            "linecolor": "white",
            "ticks": ""
           },
           "bgcolor": "#E5ECF6",
           "caxis": {
            "gridcolor": "white",
            "linecolor": "white",
            "ticks": ""
           }
          },
          "title": {
           "x": 0.05
          },
          "xaxis": {
           "automargin": true,
           "gridcolor": "white",
           "linecolor": "white",
           "ticks": "",
           "title": {
            "standoff": 15
           },
           "zerolinecolor": "white",
           "zerolinewidth": 2
          },
          "yaxis": {
           "automargin": true,
           "gridcolor": "white",
           "linecolor": "white",
           "ticks": "",
           "title": {
            "standoff": 15
           },
           "zerolinecolor": "white",
           "zerolinewidth": 2
          }
         }
        }
       }
      },
      "text/html": [
       "<div>                            <div id=\"71b764c0-d403-44a0-bdbc-d5d31a1968ea\" class=\"plotly-graph-div\" style=\"height:525px; width:100%;\"></div>            <script type=\"text/javascript\">                require([\"plotly\"], function(Plotly) {                    window.PLOTLYENV=window.PLOTLYENV || {};                                    if (document.getElementById(\"71b764c0-d403-44a0-bdbc-d5d31a1968ea\")) {                    Plotly.newPlot(                        \"71b764c0-d403-44a0-bdbc-d5d31a1968ea\",                        [{\"link\": {\"source\": [\"Personal Remedies LLC\", \"Personal Remedies LLC\", \"PINTO SOFTWARE PRODUCTS\", \"Deep Waves Ltd.\", \"23andMe\", \"American Well\", \"Drugs.com\", \"Atomic Infoapps\", \"despDev\", \"Giorgio Regni\", \"Myrecek\", \"BetterHelp - Therapy Made Easy\", \"jacob1\", \"23andMe\", \"QxMD Medical Software Inc.\", \"Mindefy Labs\", \"App Holdings\", \"Mobifolio\", \"Daily inc.\", \"PursueCare LLC\", \"Pear Therapeutics, Inc.\", \"Learning Pool\", \"King Star Studio\", \"lahcenappsinc\", \"Keystoneptune\", \"Inquiry Health LLC\", \"averhealth\", \"bedieman\", \"Health Info\", \"My Life Link\", \"Higher Learning Technologies Inc\", \"DT Study\", \"RxAssurance\", \"Electrovese Solutions\", \"Skyscape Medpresso Inc\", \"PsychSurveys LLC\", \"Mobile Seva\", \"Vission Assist\", \"Ascend Innovations\", \"Wagon Health Solutions\", \"Mobile Seva\", \"Book Free Apps\", \"Matt Vargo\", \"othmane andoapp\", \"Youth Organisations for Drug Action\", \"bhadresh patel\", \"Veterinary Advances Ltd\", \"Skyscape Medpresso Inc\", \"Alberta Health Services\", \"Mohammad Aldefrawy\", \"Train To Proclaim\", \"Higher Learning Technologies Inc\", \"the reyv\", \"Dr. Michael Joseph Deal, M.D.\", \"CaredFor\", \"GOH Technology Care\", \"SoberBuddy\", \"Massachusetts Addiction Recovery Software, Inc.\", \"DynamiCare Health\", \"ljk inc.\", \"NassApp\", \"NOVOS Behavioral Health Solutions, LLC\", \"RedRobotIT\", \"The Matilda Centre at the University of Sydney\", \"NA World Services, Inc.\", \"Mobilicks\", \"Chris Thompson - Sidekick\", \"BookMobile\", \"StatesApps\", \"Nitramite\", \"Fjapps\", \"Fumo\", \"exag GmbH\", \"Otorize\", \"LLC Kirlanik\", \"SOLUTION-PRO\", \"PeerSpot Technologies\", \"Helsingin kaupunki\", \"Elecont software\", \"BookMobile\", \"Skyscape Medpresso Inc\", \"AdaptPharma\", \"Biowave Corporation\", \"Graham Grove\", \"The Social Innovation\", \"Education_free\", \"Groupe hospitalier Paris Saint-Joseph\", \"Altrix Medical, LLC\", \"NEFTIS\", \"Stop M\", \"SoberTool\", \"SR Group\", \"Expert Health Studio\", \"Anastore\", \"AppsNativas\", \"Things To Do\", \"WEconnect\", \"TechMono360\", \"CAMH Education\", \"Lionrock Recovery\", \"BookMobile\", \"Code Crunch\", \"Impact Collective\", \"Solution Maker\", \"Semo Plays\", \"CaredFor\", \"Nature Healthy Care\", \"aconal\", \"DxRx, Inc.\", \"Clear Design Group\", \"VikingSource\", \"Recovery Record\", \"NoConnection\", \"INDEE ApS\", \"SBLMNL\", \"John Wiley & Sons, Inc.\", \"Pyro Games\", \"The Happy Apps Company Ltd\", \"BernieTomsonMedia\", \"BriskerGames\", \"Ofniinfo App\", \"Horizon Corporation\", \"Colsner Technology\", \"Innovative Cancer Care and Rehabilitation Pvt Ltd\", \"Hope & Freedom\", \"MasterpieceApps\", \"NUPUIT\", \"App Diggity, LLC\", \"Berbers Development\", \"Mobile Addcition Control, Hindi News\", \"FGGLabs\", \"TP Topics\", \"Best Self Learning Apps\", \"Healthism\", \"Indextra AB\", \"Vital Treatment Finder\", \"Web4u Corporation\", \"JMEDICAL\", \"Iroquois Healthcare Association\", \"10times.com\", \"Ruby Game Studio\", \"Calm.com, Inc.\", \"Pepi Play\", \"Ruby Game Studio\", \"Calm.com, Inc.\", \"TheFabulous\", \"Habitics\", \"Xavier Guillemane - Podcast & Radio Addict\", \"Xavier Guillemane - Podcast & Radio Addict\", \"BDR limited\", \"Higher Learning Technologies Inc\", \"Olly Tree Applications\", \"Skyscape Medpresso Inc\", \"Merck & Co Inc\", \"Unbound Medicine, Inc\", \"365 Positivity\", \"Apps2all\", \"Nerd Pig\", \"Merck & Co Inc\", \"Skyscape Medpresso Inc\", \"Swasth Inc.\", \"American Well\", \"Universal Projects & Tools, SL\", \"Lekta Therapy | Talk to a therapist\", \"Skyscape Medpresso Inc\", \"Skyscape Medpresso Inc\", \"FriendsApp Listing\", \"Skyscape Medpresso Inc\", \"Mobile Micromedex\", \"Recovery Today Magazine\", \"Best apps for use\", \"Own Your Sex\", \"DrFirst\", \"Advocates for Human Potential Inc.\", \"TripSit\", \"SuperVoid\", \"Michal Janecek\", \"MasterApps2020\", \"Essentl\", \"MasterApps2020\", \"MTV Mobile\", \"AtmosphereApps\", \"Apicel\", \"gWhiz\", \"SIN Lab\", \"Jonsap\", \"Meditation & Life improvement\", \"Truckers Against Trafficking\", \"GRC - RCMP\", \"MM APS\", \"MobiSystems\", \"Nerd Pig\", \"Apps Artist\", \"HS Developers\", \"drugs meter\", \"InTheRooms.com\", \"DailyReflections\", \"LUX-GAW\", \"SAMHSA\", \"App Diggity, LLC\", \"The Modi Group, Inc.\", \"GLStar Apps\", \"Psycnet Software\", \"drugs meter\", \"iByte Apps Limited\", \"Christian Applications\", \"Oleg Ovsyannikov\", \"BetterHelp - Therapy Made Easy\", \"Magnetic Lab\", \"Antoine Crosetti\", \"Psycnet Software\", \"BS Studio\", \"iByte Apps Limited\", \"Techno information\", \"WorldOfChemicals\", \"Centers for Disease Control and Prevention\", \"NOAA ORR\", \"Chemical Safety Software\", \"Kirill Sidorov\", \"Fatbelly\", \"Arne Standnes\", \"VenomouX\", \"Kirill Sidorov\", \"Royal Society of Chemistry\", \"ANZCA\", \"Dr Vincent Vandenhaute\", \"Nils Wommelsdorf\", \"Centers for Disease Control and Prevention\", \"Vikas O'Reilly-Shah\", \"Mental Health Nation\", \"Assistance Publique - H\\u00f4pitaux de paris (AP-HP)\", \"Portable Medical Technology Ltd.\", \"NEJM Group\", \"Humetrix, Inc.\", \"Elsevier Masson SAS\", \"Paired - Relationship Advice & Quiz for Couples\", \"Hello Sunday Morning.\", \"KyaliApps\", \"Jason Varughese\", \"BookMobile\", \"Martysoft, LLC\", \"Helpic Studio\", \"Surf City Apps\", \"app4daily\", \"Koshkin D&D\", \"iByte Apps Limited\", \"MindSciences Inc\", \"Esteban Selaya\", \"Submarine Limited\", \"ProgressiveLife\", \"OSHEMB dev.\", \"Anoval Projekt\", \"Adiquit s.r.o.\", \"Moast\", \"LOOK BEFORE YOU LEAP NET, LLC.\", \"Continuum\", \"ProgressiveLife\", \"The Gordon Moody Association\", \"Black Frog Studios, LLC\", \"Best Day Ever Designs\", \"ProgressiveLife\", \"Hypnohead\", \"Recovery Record\", \"Ajax Media Tech Private Limited\", \"Full Service Web Design\", \"Honeycommb\", \"Delene Kvasnicka of www.survivalebooks.com\", \"Appdev CSJ\", \"IT-Alia\", \"IT-Alia\", \"Andrew Marcus\", \"NextLOGiK, Inc.\", \"Murthy Miracles\", \"TeleHealth Group LLC\", \"Advanced Programming Solutions - APSL\", \"Usatine Media\", \"Team Excellence Health\", \"David\\u2122 Research Lab Inc.\", \"Usatine Media\", \"Innocorp Ltd\", \"Altrix Medical, LLC\", \"Hi5 Games\", \"AtStudio\", \"Hypnohead\", \"Belief Technologies\", \"Pic Soft\", \"3Dme Pty Ltd\", \"Deep Waves Ltd.\", \"BacBon Ltd.\", \"Krivian\", \"PDTanks Tech\", \"Pyramid Healthcare\", \"MOBIZEN\", \"Philipp Kreicarek\", \"Mind Diagnostics\", \"Ahmet Inan\", \"MDLIVE Inc\", \"FamilySearch International\", \"Talkspace\", \"Denimaks\", \"Michael Tiffany\", \"Singlecare, LLC\", \"Medical Group Soft\", \"Smart Training\", \"AtmosphereApps\", \"Van Solutions\", \"Mobile Micromedex\", \"Lippincott Williams Wilkins\", \"MobiSystems\", \"Mobixed LLC\", \"Advanced Educational Technology Inc\", \"Fourth Career Solutions\", \"MobiSystems\", \"MobiSystems\", \"WebMD, LLC\", \"Anmina Applications\", \"Universal Hospital LP\", \"Vikas O'Reilly-Shah\", \"SoberTool\", \"East Side Games Studio\", \"Mohammad Aldefrawy\", \"MobiSystems\", \"The Apps Studios\", \"GoodRx\", \"Lemonaid Health (LMND Medical Group, Inc.)\", \"Montuno Software, LLC\", \"iByte Apps Limited\", \"RedRobotIT\", \"Marnistek\", \"Inquiry Health LLC\", \"Sober Grid\", \"MS International\", \"Urbandroid (Petr N\\u00e1levka)\", \"iByte Apps Limited\", \"LOOK BEFORE YOU LEAP NET, LLC.\", \"Shine, Inc.\", \"The MCN Group LLC\", \"National Library of Medicine at NIH\", \"CatsProduction.Net\", \"FFZ srl\", \"American Red Cross\", \"Helpful Books\", \"EllizeApps\", \"RBJMobileApp\", \"HS Developers\", \"Sanapps Dev\", \"Pediatric Oncall\", \"leoncvlt\", \"FLX Apps\", \"SpidersDiligence\", \"Marnistek\", \"A7-studio\", \"Recovery Record\", \"Emerald Isle Studio\", \"The Recovery Tribe, Inc.\", \"iByte Apps Limited\", \"iByte Apps Limited\", \"iByte Apps Limited\", \"Sorbietysoft LLC\", \"Today.Studio\", \"JMH Apps\", \"Peak Pocket Studios\", \"Emerald Isle Studio\", \"Woebot Health\", \"Linzo Studio\", \"Media Local\", \"Sorbietysoft LLC\", \"Impact Collective\", \"NassApp\", \"YQP\", \"ALPHA SOFT\", \"bEsTcOrE Entertainment\", \"Center on Addiction and Northwell Health\", \"Illuminate Health Inc\", \"twentyStudio\", \"SoberPeer LLC\", \"OpenWings Wellness\", \"Indev Consultancy\", \"Outlook Consults Ltd\", \"Magzter Inc.\", \"TechMono360\", \"Matias Blomqvist\", \"The University of Adelaide (Official)\", \"Rajesh Roat\", \"Ateneo Laboratory for the Learning Sciences\", \"John Wiley & Sons, Inc.\", \"CureUp\", \"Lakshman Gollapalli, Sushovan Chakrabortty\", \"Defense Health Agency\", \"RxAssurance\", \"Treatment Hub 365 Developer\", \"RxAssurance\", \"TryCycle Data Systems Inc.\", \"BrainwaveX Ltd.\", \"iMedical Apps\", \"Medidex Inc.\", \"Cipherfolks It Solutions Pvt Ltd\", \"Ecstacy Apps\", \"Hypnotic World Ltd\", \"App Diggity, LLC\", \"LIGHTHOUSE\", \"Hayver\", \"CHS Trojan CS\", \"App Diggity, LLC\", \"M.V.Likhachev\", \"SR Mind\", \"Here and Now Systems\", \"Grayson App Developers\", \"Oceanhouse Media, Inc.\", \"4waydial\", \"Afradad Media\", \"Draxex\", \"Cello Apps\", \"App Smile\", \"Mental Health Content - Dr Nicholas Jenner\", \"Buzzermatrix Software\", \"App Diggity, LLC\", \"Curawella\", \"TechMono360\", \"Weedmaps\", \"WebMD, LLC\", \"Ada Health\", \"Screenzilla\", \"Insight Network Inc\", \"Podbean - Podcast & Radio & Audiobook\", \"dreamspark\", \"FeelVeryBien sarl\", \"Workit Health\", \"Dose Software\", \"Pear Therapeutics, Inc.\", \"adamz\", \"Expert Health Studio\", \"CHESS Health\", \"L.A. APPS\", \"moreQi\", \"Apps with love\", \"WeSoftLab\", \"DrugDoses for Android\", \"Rabi3\", \"KBED LLC\", \"Skyscape Medpresso Inc\", \"PioneerRx, LLC\", \"SOLUTION-PRO\", \"SAMHSA\", \"Recovering(me)\", \"iByte Apps Limited\", \"iByte Apps Limited\", \"Mario Herzberg (Hanna)\", \"DR OLUWASEGUN WAHAAB\", \"DeveloperJam\", \"Astma-Allergi Danmark\", \"Dr Pharma\", \"Jason Hartley\", \"NYC Dept. of Health and Mental Hygiene\", \"PTX Therapy LLC\", \"Hinge Health, Inc.\", \"Medtouch Software M\\u00e9dico Inteligente\", \"Messil inc.\", \"ViaDirect par L'\\u00eele des M\\u00e9dias\", \"Shoonger\", \"Al-Anon Family Group Headquarters Inc\", \"Berner Gesundheit\", \"iByte Apps Limited\", \"CaPASSCit\\u00e9\", \"ProgressiveLife\", \"HLAPPS\", \"United For Her Pvt Ltd\", \"Advanced Educational Technology Inc\", \"ProgressiveLife\", \"ProgressiveLife\", \"Enfoglobe LLC\", \"SAMHSA\", \"Jcreativa\", \"Kognito\", \"SaundersApps\", \"Newbird\", \"Philippe El Asmar\", \"PINTO SOFTWARE PRODUCTS\", \"Stress Refuge, Inc.\", \"SekamCo\", \"Patient Data Science, LLC. New York, USA\", \"Subsplash Inc\", \"BrainwaveX Ltd.\", \"Randy Withers\", \"Swasth Inc.\", \"QuizOver.com\", \"RF Developments\", \"Van Solutions\", \"GO Travel Maps Tech\", \"Rooh Lyric\", \"Recovery Record\", \"Unbound Medicine, Inc\", \"gaga.chat\", \"Medical Group Soft\", \"PDR, LLC.\", \"Educational Concepts, L.L.C\", \"PioneerRx, LLC\", \"Pocket Rehab\", \"Loosid App LLC\", \"Swasth Inc.\", \"Bobbi McWilliams\", \"Nerd Pig\", \"Alcohol Change UK\", \"Tikamori\", \"Parker Stech\", \"BookMobile\", \"Bull Laboratories (BullLabs.com) Development Team\", \"GoodRx\", \"Recovery Record\", \"shen-apps.com (EN, DE, ESP, IT, PT, P\\u0443\\u0441\\u0441\\u043a\\u0438\\u0439, \\u4e2d\\u56fd)\", \"Pustaka Dewi\", \"MC_LANG\", \"Kirill Sidorov\", \"JuBat\", \"Kirill Sidorov\", \"ASPCA Animal Poison Control Center\", \"Vikas O'Reilly-Shah\", \"NEJM Group\", \"MOANESS\", \"Les Amis d'Antibioclic\", \"Artur Voicehovic\", \"Dean Huff\", \"Recovery Warriors\", \"BetterHelp - Therapy Made Easy\", \"SYSTWEAK SOFTWARE PRIVATE LIMITED\", \"SR Group\", \"Mystic Valley Public Health Coalition\", \"RECOVERYIP INNOVATIONS LLC\", \"Socio Labs Inc\", \"Enfoglobe LLC\", \"StarterHomeApp\", \"Verily Life Sciences LLC\", \"HemiSphere Studio\", \"NEWLINE TECHNOLOGIES LIMITED\", \"Kognito\", \"Thrivee, Inc.\", \"RPR Technologies\", \"Empiric Health Inc.\", \"Advanced Programming Solutions - APSL\", \"Digitalant\", \"Shahinur Rahman Shajeeb\", \"WeRecover\", \"Ike Newton\", \"Sociosoftware\", \"iNaturalist\", \"Sunshine Health Studios\", \"LDRLY Games\", \"MobiSystems\", \"I Am Sober LLC\", \"Mario Herzberg (Hanna)\", \"Stop M\", \"NA World Services, Inc.\", \"stem4\", \"Naticis\", \"Knorre\", \"Smiling Mind\", \"HealthEngine Pty Ltd\", \"Gaia, Inc.\", \"MD Aware, LLC\", \"Gaia, Inc.\", \"Vidal\\u00ae\", \"LifeOmic\", \"Gaia, Inc.\", \"Mario Herzberg (Hanna)\", \"topotApps\", \"Jackson Tempra\", \"Aware Team Apps\", \"Reboot Your Life\", \"ProgressiveLife\", \"App Diggity, LLC\", \"Mindwave Ventures\", \"App Diggity, LLC\", \"bedieman\", \"The University of Adelaide (Official)\", \"Mind Solutions Ltd\", \"Ysfmamman\", \"moreQi\", \"bedieman\", \"Best Top Daily Guide & Info\", \"Buddy C.\", \"Mobile Seva\", \"Mind Help LTD\", \"Sober Connect\", \"Peterson's LLC\", \"Health Info\", \"Amston Studio\", \"USWorldMeds, LLC\", \"Kardiia LLC\", \"Health Info\", \"B\\u00f6rm Bruckmeier Publishing LLC\", \"SolutionSappS7\", \"Kym Tolson & Hani Al-Qasem\", \"CaredFor\", \"Recovery Designed Limited\", \"Mystictech966\", \"John Wiley & Sons, Inc.\", \"idk. software\", \"SR Mind\", \"Kim Fleckenstein\", \"Boulder Care\", \"MedCircle Inc.\", \"Zeninfotechs\"], \"target\": [\"Medical\", \"Medical\", \"Health & Fitness\", \"Health & Fitness\", \"Health & Fitness\", \"Medical\", \"Medical\", \"Medical\", \"Health & Fitness\", \"Health & Fitness\", \"Health & Fitness\", \"Health & Fitness\", \"Simulation\", \"Health & Fitness\", \"Medical\", \"Productivity\", \"Productivity\", \"Productivity\", \"Lifestyle\", \"Health & Fitness\", \"Medical\", \"Education\", \"Health & Fitness\", \"Entertainment\", \"Education\", \"Medical\", \"Medical\", \"Health & Fitness\", \"Medical\", \"Lifestyle\", \"Education\", \"Books & Reference\", \"Health & Fitness\", \"Lifestyle\", \"Medical\", \"Health & Fitness\", \"Education\", \"Medical\", \"Medical\", \"Health & Fitness\", \"Education\", \"Books & Reference\", \"Medical\", \"Health & Fitness\", \"Education\", \"Medical\", \"Medical\", \"Medical\", \"Medical\", \"Medical\", \"Lifestyle\", \"Medical\", \"Health & Fitness\", \"Health & Fitness\", \"Health & Fitness\", \"Lifestyle\", \"Health & Fitness\", \"Health & Fitness\", \"Health & Fitness\", \"Health & Fitness\", \"Medical\", \"Health & Fitness\", \"Health & Fitness\", \"Education\", \"Lifestyle\", \"Medical\", \"Health & Fitness\", \"Health & Fitness\", \"Health & Fitness\", \"Education\", \"Productivity\", \"Medical\", \"Productivity\", \"Health & Fitness\", \"Books & Reference\", \"Medical\", \"Productivity\", \"Health & Fitness\", \"Health & Fitness\", \"Health & Fitness\", \"Medical\", \"Medical\", \"Health & Fitness\", \"Medical\", \"Medical\", \"Medical\", \"Medical\", \"Medical\", \"Medical\", \"Productivity\", \"Lifestyle\", \"Health & Fitness\", \"Health & Fitness\", \"Entertainment\", \"Health & Fitness\", \"Health & Fitness\", \"Health & Fitness\", \"Books & Reference\", \"Health & Fitness\", \"Health & Fitness\", \"Health & Fitness\", \"Books & Reference\", \"Lifestyle\", \"Books & Reference\", \"Books & Reference\", \"Health & Fitness\", \"Entertainment\", \"Lifestyle\", \"Medical\", \"Health & Fitness\", \"Health & Fitness\", \"Medical\", \"Lifestyle\", \"Health & Fitness\", \"Health & Fitness\", \"Education\", \"Lifestyle\", \"Health & Fitness\", \"Lifestyle\", \"Health & Fitness\", \"Health & Fitness\", \"Health & Fitness\", \"Health & Fitness\", \"Health & Fitness\", \"Health & Fitness\", \"Lifestyle\", \"Education\", \"Health & Fitness\", \"Health & Fitness\", \"Productivity\", \"Health & Fitness\", \"Health & Fitness\", \"Education\", \"Education\", \"Medical\", \"Health & Fitness\", \"Education\", \"Medical\", \"Medical\", \"Events\", \"Simulation\", \"Health & Fitness\", \"Education\", \"Simulation\", \"Health & Fitness\", \"Health & Fitness\", \"Lifestyle\", \"News & Magazines\", \"News & Magazines\", \"Medical\", \"Education\", \"Medical\", \"Medical\", \"Medical\", \"Medical\", \"Medical\", \"Medical\", \"Lifestyle\", \"Medical\", \"Medical\", \"Health & Fitness\", \"Medical\", \"Medical\", \"Health & Fitness\", \"Medical\", \"Medical\", \"Medical\", \"Medical\", \"Medical\", \"Health & Fitness\", \"Medical\", \"Entertainment\", \"Medical\", \"Health & Fitness\", \"Education\", \"Health & Fitness\", \"Lifestyle\", \"Medical\", \"Health & Fitness\", \"Medical\", \"Medical\", \"Medical\", \"Medical\", \"Education\", \"Education\", \"Medical\", \"Health & Fitness\", \"Communication\", \"Education\", \"Medical\", \"Medical\", \"Lifestyle\", \"Medical\", \"Education\", \"Health & Fitness\", \"Communication\", \"Books & Reference\", \"Health & Fitness\", \"Medical\", \"Health & Fitness\", \"Health & Fitness\", \"Lifestyle\", \"Education\", \"Health & Fitness\", \"Health & Fitness\", \"Lifestyle\", \"Health & Fitness\", \"Health & Fitness\", \"Health & Fitness\", \"Health & Fitness\", \"Education\", \"Health & Fitness\", \"Education\", \"Health & Fitness\", \"News & Magazines\", \"Health & Fitness\", \"Tools\", \"Productivity\", \"Books & Reference\", \"Medical\", \"Education\", \"Education\", \"Books & Reference\", \"News & Magazines\", \"Medical\", \"Medical\", \"Medical\", \"Medical\", \"Medical\", \"Medical\", \"Medical\", \"Medical\", \"Medical\", \"Medical\", \"Medical\", \"Health & Fitness\", \"Health & Fitness\", \"Lifestyle\", \"Health & Fitness\", \"Books & Reference\", \"Health & Fitness\", \"Lifestyle\", \"Lifestyle\", \"Health & Fitness\", \"Health & Fitness\", \"Lifestyle\", \"Health & Fitness\", \"Lifestyle\", \"Health & Fitness\", \"Lifestyle\", \"Health & Fitness\", \"Health & Fitness\", \"Health & Fitness\", \"Lifestyle\", \"Lifestyle\", \"Health & Fitness\", \"Lifestyle\", \"Health & Fitness\", \"Health & Fitness\", \"Health & Fitness\", \"Medical\", \"Health & Fitness\", \"Medical\", \"Education\", \"Health & Fitness\", \"Social\", \"Medical\", \"News & Magazines\", \"Productivity\", \"Productivity\", \"Education\", \"Education\", \"Medical\", \"Education\", \"Health & Fitness\", \"Medical\", \"Medical\", \"Books & Reference\", \"Medical\", \"Education\", \"Productivity\", \"Health & Fitness\", \"Lifestyle\", \"Health & Fitness\", \"Lifestyle\", \"Health & Fitness\", \"Health & Fitness\", \"Health & Fitness\", \"Health & Fitness\", \"Books & Reference\", \"House & Home\", \"Medical\", \"Productivity\", \"Health & Fitness\", \"Medical\", \"Communication\", \"Medical\", \"Books & Reference\", \"Health & Fitness\", \"Lifestyle\", \"Health & Fitness\", \"Medical\", \"Medical\", \"Medical\", \"Medical\", \"Medical\", \"Medical\", \"Medical\", \"Medical\", \"Medical\", \"Education\", \"Medical\", \"Medical\", \"Medical\", \"Health & Fitness\", \"Medical\", \"Medical\", \"Medical\", \"Lifestyle\", \"Simulation\", \"Medical\", \"Medical\", \"Medical\", \"Medical\", \"Medical\", \"Medical\", \"Lifestyle\", \"Lifestyle\", \"Lifestyle\", \"Health & Fitness\", \"Lifestyle\", \"Health & Fitness\", \"Health & Fitness\", \"Lifestyle\", \"Lifestyle\", \"Health & Fitness\", \"Medical\", \"Medical\", \"Education\", \"Health & Fitness\", \"Medical\", \"Books & Reference\", \"Education\", \"Health & Fitness\", \"Education\", \"Medical\", \"Medical\", \"Lifestyle\", \"Health & Fitness\", \"Health & Fitness\", \"Lifestyle\", \"Health & Fitness\", \"Health & Fitness\", \"Lifestyle\", \"Lifestyle\", \"Lifestyle\", \"Lifestyle\", \"Lifestyle\", \"Books & Reference\", \"Health & Fitness\", \"Health & Fitness\", \"Health & Fitness\", \"Lifestyle\", \"Medical\", \"Health & Fitness\", \"Lifestyle\", \"Books & Reference\", \"Education\", \"Medical\", \"Books & Reference\", \"Health & Fitness\", \"Education\", \"Medical\", \"Health & Fitness\", \"Health & Fitness\", \"Health & Fitness\", \"Health & Fitness\", \"Health & Fitness\", \"Education\", \"Lifestyle\", \"Books & Reference\", \"Medical\", \"Medical\", \"Books & Reference\", \"Education\", \"Education\", \"Health & Fitness\", \"Medical\", \"Medical\", \"Health & Fitness\", \"Health & Fitness\", \"Health & Fitness\", \"Health & Fitness\", \"Health & Fitness\", \"Medical\", \"Medical\", \"Education\", \"Health & Fitness\", \"Health & Fitness\", \"Health & Fitness\", \"Lifestyle\", \"Health & Fitness\", \"Medical\", \"Health & Fitness\", \"Health & Fitness\", \"Health & Fitness\", \"Health & Fitness\", \"Lifestyle\", \"Lifestyle\", \"Health & Fitness\", \"Books & Reference\", \"Productivity\", \"Books & Reference\", \"Health & Fitness\", \"Health & Fitness\", \"Health & Fitness\", \"Health & Fitness\", \"Medical\", \"Books & Reference\", \"Medical\", \"Medical\", \"Medical\", \"Simulation\", \"Health & Fitness\", \"News & Magazines\", \"Health & Fitness\", \"Health & Fitness\", \"Medical\", \"Health & Fitness\", \"Medical\", \"Education\", \"Health & Fitness\", \"Health & Fitness\", \"Social\", \"Health & Fitness\", \"Health & Fitness\", \"Medical\", \"Medical\", \"Books & Reference\", \"Medical\", \"Medical\", \"Medical\", \"Medical\", \"Medical\", \"Health & Fitness\", \"Lifestyle\", \"Lifestyle\", \"Health & Fitness\", \"Health & Fitness\", \"Health & Fitness\", \"Health & Fitness\", \"Education\", \"Medical\", \"Medical\", \"Health & Fitness\", \"Health & Fitness\", \"Medical\", \"Medical\", \"Medical\", \"Health & Fitness\", \"Communication\", \"Health & Fitness\", \"Lifestyle\", \"Health & Fitness\", \"Lifestyle\", \"Health & Fitness\", \"Health & Fitness\", \"Education\", \"Lifestyle\", \"Medical\", \"Medical\", \"Education\", \"Tools\", \"Health & Fitness\", \"Medical\", \"Medical\", \"Health & Fitness\", \"Health & Fitness\", \"Health & Fitness\", \"Lifestyle\", \"Health & Fitness\", \"Lifestyle\", \"Health & Fitness\", \"Health & Fitness\", \"Health & Fitness\", \"Education\", \"Health & Fitness\", \"Medical\", \"Medical\", \"Education\", \"Medical\", \"Medical\", \"Communication\", \"Medical\", \"Medical\", \"Medical\", \"Medical\", \"Health & Fitness\", \"Social\", \"Health & Fitness\", \"Lifestyle\", \"Lifestyle\", \"Health & Fitness\", \"Health & Fitness\", \"Lifestyle\", \"Books & Reference\", \"Health & Fitness\", \"Medical\", \"Medical\", \"Medical\", \"Books & Reference\", \"Books & Reference\", \"Books & Reference\", \"Health & Fitness\", \"Books & Reference\", \"Books & Reference\", \"Medical\", \"Medical\", \"Medical\", \"Medical\", \"Health & Fitness\", \"Lifestyle\", \"Health & Fitness\", \"Health & Fitness\", \"Health & Fitness\", \"Health & Fitness\", \"Education\", \"Medical\", \"Communication\", \"Medical\", \"Lifestyle\", \"Medical\", \"Health & Fitness\", \"Education\", \"Education\", \"Medical\", \"Books & Reference\", \"Health & Fitness\", \"Health & Fitness\", \"Health & Fitness\", \"Education\", \"Health & Fitness\", \"Books & Reference\", \"Lifestyle\", \"Education\", \"Health & Fitness\", \"Simulation\", \"Medical\", \"Lifestyle\", \"Health & Fitness\", \"Lifestyle\", \"Health & Fitness\", \"Health & Fitness\", \"Productivity\", \"Books & Reference\", \"Health & Fitness\", \"Health & Fitness\", \"Lifestyle\", \"Medical\", \"Lifestyle\", \"Medical\", \"Health & Fitness\", \"Lifestyle\", \"Health & Fitness\", \"Lifestyle\", \"Health & Fitness\", \"Lifestyle\", \"Lifestyle\", \"Lifestyle\", \"Health & Fitness\", \"Medical\", \"Health & Fitness\", \"Health & Fitness\", \"Medical\", \"Education\", \"Education\", \"Health & Fitness\", \"Health & Fitness\", \"Health & Fitness\", \"Health & Fitness\", \"Education\", \"Health & Fitness\", \"Health & Fitness\", \"Education\", \"Medical\", \"Medical\", \"Medical\", \"Medical\", \"Medical\", \"Medical\", \"Health & Fitness\", \"Health & Fitness\", \"Health & Fitness\", \"Health & Fitness\", \"Entertainment\", \"News & Magazines\", \"Lifestyle\", \"Health & Fitness\", \"Health & Fitness\", \"Health & Fitness\", \"Medical\", \"Health & Fitness\"], \"value\": [0, 0, 0, 0, 1000000, 1000000, 1000000, 1000000, 1000000, 1000000, 1000000, 1000000, 1000000, 1000000, 1000000, 1000000, 1000000, 1000000, 1000000, 1000, 1000, 1000, 1000, 1000, 1000, 1000, 1000, 1000, 1000, 1000, 1000, 1000, 1000, 1000, 1000, 1000, 1000, 1000, 1000, 1000, 1000, 1000, 1000, 1000, 1000, 1000, 1000, 1000, 1000, 1000, 1000, 1000, 1000, 1000, 1000, 1000, 1000, 1000, 1000, 1000, 1000, 1000, 1000, 1000, 1000, 1000, 1000, 1000, 1000, 1000, 1000, 1000, 1000, 1000, 1000, 1000, 1000, 1000, 1000, 1000, 1000, 1000, 1000, 1000, 1000, 1000, 1000, 1000, 1000, 1000, 1000, 1000, 1000, 1000, 1000, 1000, 1000, 1000, 1000, 1000, 1000, 1000, 1000, 1000, 1000, 1000, 1000, 1000, 1000, 1000, 1000, 1000, 1000, 1000, 1000, 1000, 1000, 1000, 1000, 1000, 1000, 1000, 1000, 1000, 1000, 1000, 1000, 1000, 1000, 1000, 1000, 1000, 1000, 1, 1, 1, 1, 1, 1, 1, 10000000, 10000000, 10000000, 10000000, 10000000, 10000000, 10000000, 10000000, 10000000, 10000, 10000, 10000, 10000, 10000, 10000, 10000, 10000, 10000, 10000, 10000, 10000, 10000, 10000, 10000, 10000, 10000, 10000, 10000, 10000, 10000, 10000, 10000, 10000, 10000, 10000, 10000, 10000, 10000, 10000, 10000, 10000, 10000, 10000, 10000, 10000, 10000, 10000, 10000, 10000, 10000, 10000, 10000, 10000, 10000, 10000, 10000, 10000, 10000, 10000, 10000, 10000, 10000, 10000, 10000, 10000, 10000, 10000, 10000, 10000, 10000, 10000, 10000, 10000, 10000, 10000, 10000, 10000, 10000, 10000, 10000, 10000, 10000, 10000, 10000, 10000, 10000, 10000, 10000, 10000, 10000, 10000, 10000, 10000, 10000, 10000, 10000, 10000, 10000, 10000, 10000, 10000, 10000, 10000, 10000, 10000, 10000, 10000, 10000, 10000, 10000, 10000, 10000, 10000, 10000, 10000, 10000, 10000, 10000, 10000, 10000, 10000, 10, 10, 10, 10, 10, 10, 10, 10, 10, 10, 10, 10, 10, 10, 10, 10, 10, 10, 10, 10, 10, 10, 10, 10, 10, 10, 10, 10, 10, 10, 10, 100000000, 100000, 100000, 100000, 100000, 100000, 100000, 100000, 100000, 100000, 100000, 100000, 100000, 100000, 100000, 100000, 100000, 100000, 100000, 100000, 100000, 100000, 100000, 100000, 100000, 100000, 100000, 100000, 100000, 100000, 100000, 100000, 100000, 100000, 100000, 100000, 100000, 100000, 100000, 100000, 100000, 100000, 100000, 100000, 100000, 100000, 100000, 100000, 100000, 100000, 100000, 100000, 100000, 100000, 100000, 100000, 100000, 100000, 100000, 100000, 100000, 100000, 100000, 100000, 100000, 100000, 100000, 100000, 100000, 100000, 100000, 100000, 100000, 100000, 100000, 100000, 100, 100, 100, 100, 100, 100, 100, 100, 100, 100, 100, 100, 100, 100, 100, 100, 100, 100, 100, 100, 100, 100, 100, 100, 100, 100, 100, 100, 100, 100, 100, 100, 100, 100, 100, 100, 100, 100, 100, 100, 100, 100, 100, 100, 100, 100, 100, 100, 100, 100, 100, 5000000, 5000000, 5000000, 5000000, 5000000, 5000000, 5000000, 5000000, 5000, 5000, 5000, 5000, 5000, 5000, 5000, 5000, 5000, 5000, 5000, 5000, 5000, 5000, 5000, 5000, 5000, 5000, 5000, 5000, 5000, 5000, 5000, 5000, 5000, 5000, 5000, 5000, 5000, 5000, 5000, 5000, 5000, 5000, 5000, 5000, 5000, 5000, 5000, 5000, 5000, 5000, 5000, 5, 5, 5, 5, 5, 5, 5, 5, 5, 5, 5, 5, 5, 5, 50000, 50000, 50000, 50000, 50000, 50000, 50000, 50000, 50000, 50000, 50000, 50000, 50000, 50000, 50000, 50000, 50000, 50000, 50000, 50000, 50000, 50000, 50000, 50000, 50000, 50000, 50000, 50000, 50000, 50000, 50000, 50000, 50000, 50000, 50000, 50000, 50000, 50000, 50000, 50000, 50000, 50000, 50, 50, 50, 50, 50, 50, 50, 50, 50, 50, 50, 50, 50, 50, 50, 50, 50, 500000, 500000, 500000, 500000, 500000, 500000, 500000, 500000, 500000, 500000, 500000, 500000, 500000, 500000, 500000, 500000, 500000, 500000, 500000, 500000, 500000, 500000, 500000, 500000, 500000, 500000, 500, 500, 500, 500, 500, 500, 500, 500, 500, 500, 500, 500, 500, 500, 500, 500, 500, 500, 500, 500, 500, 500, 500, 500, 500, 500, 500, 500, 500, 500, 500, 500, 500]}, \"node\": {\"color\": \"blue\", \"line\": {\"color\": \"green\", \"width\": 0.1}, \"thickness\": 5}, \"type\": \"sankey\"}],                        {\"template\": {\"data\": {\"bar\": [{\"error_x\": {\"color\": \"#2a3f5f\"}, \"error_y\": {\"color\": \"#2a3f5f\"}, \"marker\": {\"line\": {\"color\": \"#E5ECF6\", \"width\": 0.5}}, \"type\": \"bar\"}], \"barpolar\": [{\"marker\": {\"line\": {\"color\": \"#E5ECF6\", \"width\": 0.5}}, \"type\": \"barpolar\"}], \"carpet\": [{\"aaxis\": {\"endlinecolor\": \"#2a3f5f\", \"gridcolor\": \"white\", \"linecolor\": \"white\", \"minorgridcolor\": \"white\", \"startlinecolor\": \"#2a3f5f\"}, \"baxis\": {\"endlinecolor\": \"#2a3f5f\", \"gridcolor\": \"white\", \"linecolor\": \"white\", \"minorgridcolor\": \"white\", \"startlinecolor\": \"#2a3f5f\"}, \"type\": \"carpet\"}], \"choropleth\": [{\"colorbar\": {\"outlinewidth\": 0, \"ticks\": \"\"}, \"type\": \"choropleth\"}], \"contour\": [{\"colorbar\": {\"outlinewidth\": 0, \"ticks\": \"\"}, \"colorscale\": [[0.0, \"#0d0887\"], [0.1111111111111111, \"#46039f\"], [0.2222222222222222, \"#7201a8\"], [0.3333333333333333, \"#9c179e\"], [0.4444444444444444, \"#bd3786\"], [0.5555555555555556, \"#d8576b\"], [0.6666666666666666, \"#ed7953\"], [0.7777777777777778, \"#fb9f3a\"], [0.8888888888888888, \"#fdca26\"], [1.0, \"#f0f921\"]], \"type\": \"contour\"}], \"contourcarpet\": [{\"colorbar\": {\"outlinewidth\": 0, \"ticks\": \"\"}, \"type\": \"contourcarpet\"}], \"heatmap\": [{\"colorbar\": {\"outlinewidth\": 0, \"ticks\": \"\"}, \"colorscale\": [[0.0, \"#0d0887\"], [0.1111111111111111, \"#46039f\"], [0.2222222222222222, \"#7201a8\"], [0.3333333333333333, \"#9c179e\"], [0.4444444444444444, \"#bd3786\"], [0.5555555555555556, \"#d8576b\"], [0.6666666666666666, \"#ed7953\"], [0.7777777777777778, \"#fb9f3a\"], [0.8888888888888888, \"#fdca26\"], [1.0, \"#f0f921\"]], \"type\": \"heatmap\"}], \"heatmapgl\": [{\"colorbar\": {\"outlinewidth\": 0, \"ticks\": \"\"}, \"colorscale\": [[0.0, \"#0d0887\"], [0.1111111111111111, \"#46039f\"], [0.2222222222222222, \"#7201a8\"], [0.3333333333333333, \"#9c179e\"], [0.4444444444444444, \"#bd3786\"], [0.5555555555555556, \"#d8576b\"], [0.6666666666666666, \"#ed7953\"], [0.7777777777777778, \"#fb9f3a\"], [0.8888888888888888, \"#fdca26\"], [1.0, \"#f0f921\"]], \"type\": \"heatmapgl\"}], \"histogram\": [{\"marker\": {\"colorbar\": {\"outlinewidth\": 0, \"ticks\": \"\"}}, \"type\": \"histogram\"}], \"histogram2d\": [{\"colorbar\": {\"outlinewidth\": 0, \"ticks\": \"\"}, \"colorscale\": [[0.0, \"#0d0887\"], [0.1111111111111111, \"#46039f\"], [0.2222222222222222, \"#7201a8\"], [0.3333333333333333, \"#9c179e\"], [0.4444444444444444, \"#bd3786\"], [0.5555555555555556, \"#d8576b\"], [0.6666666666666666, \"#ed7953\"], [0.7777777777777778, \"#fb9f3a\"], [0.8888888888888888, \"#fdca26\"], [1.0, \"#f0f921\"]], \"type\": \"histogram2d\"}], \"histogram2dcontour\": [{\"colorbar\": {\"outlinewidth\": 0, \"ticks\": \"\"}, \"colorscale\": [[0.0, \"#0d0887\"], [0.1111111111111111, \"#46039f\"], [0.2222222222222222, \"#7201a8\"], [0.3333333333333333, \"#9c179e\"], [0.4444444444444444, \"#bd3786\"], [0.5555555555555556, \"#d8576b\"], [0.6666666666666666, \"#ed7953\"], [0.7777777777777778, \"#fb9f3a\"], [0.8888888888888888, \"#fdca26\"], [1.0, \"#f0f921\"]], \"type\": \"histogram2dcontour\"}], \"mesh3d\": [{\"colorbar\": {\"outlinewidth\": 0, \"ticks\": \"\"}, \"type\": \"mesh3d\"}], \"parcoords\": [{\"line\": {\"colorbar\": {\"outlinewidth\": 0, \"ticks\": \"\"}}, \"type\": \"parcoords\"}], \"pie\": [{\"automargin\": true, \"type\": \"pie\"}], \"scatter\": [{\"marker\": {\"colorbar\": {\"outlinewidth\": 0, \"ticks\": \"\"}}, \"type\": \"scatter\"}], \"scatter3d\": [{\"line\": {\"colorbar\": {\"outlinewidth\": 0, \"ticks\": \"\"}}, \"marker\": {\"colorbar\": {\"outlinewidth\": 0, \"ticks\": \"\"}}, \"type\": \"scatter3d\"}], \"scattercarpet\": [{\"marker\": {\"colorbar\": {\"outlinewidth\": 0, \"ticks\": \"\"}}, \"type\": \"scattercarpet\"}], \"scattergeo\": [{\"marker\": {\"colorbar\": {\"outlinewidth\": 0, \"ticks\": \"\"}}, \"type\": \"scattergeo\"}], \"scattergl\": [{\"marker\": {\"colorbar\": {\"outlinewidth\": 0, \"ticks\": \"\"}}, \"type\": \"scattergl\"}], \"scattermapbox\": [{\"marker\": {\"colorbar\": {\"outlinewidth\": 0, \"ticks\": \"\"}}, \"type\": \"scattermapbox\"}], \"scatterpolar\": [{\"marker\": {\"colorbar\": {\"outlinewidth\": 0, \"ticks\": \"\"}}, \"type\": \"scatterpolar\"}], \"scatterpolargl\": [{\"marker\": {\"colorbar\": {\"outlinewidth\": 0, \"ticks\": \"\"}}, \"type\": \"scatterpolargl\"}], \"scatterternary\": [{\"marker\": {\"colorbar\": {\"outlinewidth\": 0, \"ticks\": \"\"}}, \"type\": \"scatterternary\"}], \"surface\": [{\"colorbar\": {\"outlinewidth\": 0, \"ticks\": \"\"}, \"colorscale\": [[0.0, \"#0d0887\"], [0.1111111111111111, \"#46039f\"], [0.2222222222222222, \"#7201a8\"], [0.3333333333333333, \"#9c179e\"], [0.4444444444444444, \"#bd3786\"], [0.5555555555555556, \"#d8576b\"], [0.6666666666666666, \"#ed7953\"], [0.7777777777777778, \"#fb9f3a\"], [0.8888888888888888, \"#fdca26\"], [1.0, \"#f0f921\"]], \"type\": \"surface\"}], \"table\": [{\"cells\": {\"fill\": {\"color\": \"#EBF0F8\"}, \"line\": {\"color\": \"white\"}}, \"header\": {\"fill\": {\"color\": \"#C8D4E3\"}, \"line\": {\"color\": \"white\"}}, \"type\": \"table\"}]}, \"layout\": {\"annotationdefaults\": {\"arrowcolor\": \"#2a3f5f\", \"arrowhead\": 0, \"arrowwidth\": 1}, \"coloraxis\": {\"colorbar\": {\"outlinewidth\": 0, \"ticks\": \"\"}}, \"colorscale\": {\"diverging\": [[0, \"#8e0152\"], [0.1, \"#c51b7d\"], [0.2, \"#de77ae\"], [0.3, \"#f1b6da\"], [0.4, \"#fde0ef\"], [0.5, \"#f7f7f7\"], [0.6, \"#e6f5d0\"], [0.7, \"#b8e186\"], [0.8, \"#7fbc41\"], [0.9, \"#4d9221\"], [1, \"#276419\"]], \"sequential\": [[0.0, \"#0d0887\"], [0.1111111111111111, \"#46039f\"], [0.2222222222222222, \"#7201a8\"], [0.3333333333333333, \"#9c179e\"], [0.4444444444444444, \"#bd3786\"], [0.5555555555555556, \"#d8576b\"], [0.6666666666666666, \"#ed7953\"], [0.7777777777777778, \"#fb9f3a\"], [0.8888888888888888, \"#fdca26\"], [1.0, \"#f0f921\"]], \"sequentialminus\": [[0.0, \"#0d0887\"], [0.1111111111111111, \"#46039f\"], [0.2222222222222222, \"#7201a8\"], [0.3333333333333333, \"#9c179e\"], [0.4444444444444444, \"#bd3786\"], [0.5555555555555556, \"#d8576b\"], [0.6666666666666666, \"#ed7953\"], [0.7777777777777778, \"#fb9f3a\"], [0.8888888888888888, \"#fdca26\"], [1.0, \"#f0f921\"]]}, \"colorway\": [\"#636efa\", \"#EF553B\", \"#00cc96\", \"#ab63fa\", \"#FFA15A\", \"#19d3f3\", \"#FF6692\", \"#B6E880\", \"#FF97FF\", \"#FECB52\"], \"font\": {\"color\": \"#2a3f5f\"}, \"geo\": {\"bgcolor\": \"white\", \"lakecolor\": \"white\", \"landcolor\": \"#E5ECF6\", \"showlakes\": true, \"showland\": true, \"subunitcolor\": \"white\"}, \"hoverlabel\": {\"align\": \"left\"}, \"hovermode\": \"closest\", \"mapbox\": {\"style\": \"light\"}, \"paper_bgcolor\": \"white\", \"plot_bgcolor\": \"#E5ECF6\", \"polar\": {\"angularaxis\": {\"gridcolor\": \"white\", \"linecolor\": \"white\", \"ticks\": \"\"}, \"bgcolor\": \"#E5ECF6\", \"radialaxis\": {\"gridcolor\": \"white\", \"linecolor\": \"white\", \"ticks\": \"\"}}, \"scene\": {\"xaxis\": {\"backgroundcolor\": \"#E5ECF6\", \"gridcolor\": \"white\", \"gridwidth\": 2, \"linecolor\": \"white\", \"showbackground\": true, \"ticks\": \"\", \"zerolinecolor\": \"white\"}, \"yaxis\": {\"backgroundcolor\": \"#E5ECF6\", \"gridcolor\": \"white\", \"gridwidth\": 2, \"linecolor\": \"white\", \"showbackground\": true, \"ticks\": \"\", \"zerolinecolor\": \"white\"}, \"zaxis\": {\"backgroundcolor\": \"#E5ECF6\", \"gridcolor\": \"white\", \"gridwidth\": 2, \"linecolor\": \"white\", \"showbackground\": true, \"ticks\": \"\", \"zerolinecolor\": \"white\"}}, \"shapedefaults\": {\"line\": {\"color\": \"#2a3f5f\"}}, \"ternary\": {\"aaxis\": {\"gridcolor\": \"white\", \"linecolor\": \"white\", \"ticks\": \"\"}, \"baxis\": {\"gridcolor\": \"white\", \"linecolor\": \"white\", \"ticks\": \"\"}, \"bgcolor\": \"#E5ECF6\", \"caxis\": {\"gridcolor\": \"white\", \"linecolor\": \"white\", \"ticks\": \"\"}}, \"title\": {\"x\": 0.05}, \"xaxis\": {\"automargin\": true, \"gridcolor\": \"white\", \"linecolor\": \"white\", \"ticks\": \"\", \"title\": {\"standoff\": 15}, \"zerolinecolor\": \"white\", \"zerolinewidth\": 2}, \"yaxis\": {\"automargin\": true, \"gridcolor\": \"white\", \"linecolor\": \"white\", \"ticks\": \"\", \"title\": {\"standoff\": 15}, \"zerolinecolor\": \"white\", \"zerolinewidth\": 2}}}},                        {\"responsive\": true}                    ).then(function(){\n",
       "                            \n",
       "var gd = document.getElementById('71b764c0-d403-44a0-bdbc-d5d31a1968ea');\n",
       "var x = new MutationObserver(function (mutations, observer) {{\n",
       "        var display = window.getComputedStyle(gd).display;\n",
       "        if (!display || display === 'none') {{\n",
       "            console.log([gd, 'removed!']);\n",
       "            Plotly.purge(gd);\n",
       "            observer.disconnect();\n",
       "        }}\n",
       "}});\n",
       "\n",
       "// Listen for the removal of the full notebook cells\n",
       "var notebookContainer = gd.closest('#notebook-container');\n",
       "if (notebookContainer) {{\n",
       "    x.observe(notebookContainer, {childList: true});\n",
       "}}\n",
       "\n",
       "// Listen for the clearing of the current output cell\n",
       "var outputEl = gd.closest('.output');\n",
       "if (outputEl) {{\n",
       "    x.observe(outputEl, {childList: true});\n",
       "}}\n",
       "\n",
       "                        })                };                });            </script>        </div>"
      ]
     },
     "metadata": {},
     "output_type": "display_data"
    }
   ],
   "source": [
    "fig = go.Figure(data=[go.Sankey( \n",
    "    node = dict( \n",
    "      thickness = 5, \n",
    "      line = dict(color = \"green\", width = 0.1), \n",
    "      #label = [\"A\", \"B\", \"C\", \"D\", \"E\", \"F\"], \n",
    "      color = \"blue\"\n",
    "    ), \n",
    "    link = dict( \n",
    "          \n",
    "      # indices correspond to labels \n",
    "      source = apps['developer'],  \n",
    "      target = apps['genre'], \n",
    "      value = apps['installs']\n",
    "  ))]) \n",
    "  \n",
    "#fig.update_layout( \n",
    "#    hovermode = 'x', \n",
    "#    title=\"Sankey Diagram\", \n",
    "#    font=dict(size = 10, color = 'green'), \n",
    "#    plot_bgcolor='blue', \n",
    "#    paper_bgcolor='yellow'\n",
    "#) \n",
    "  \n",
    "fig.show()"
   ]
  }
 ],
 "metadata": {
  "kernelspec": {
   "display_name": "Python 3",
   "language": "python",
   "name": "python3"
  },
  "language_info": {
   "codemirror_mode": {
    "name": "ipython",
    "version": 3
   },
   "file_extension": ".py",
   "mimetype": "text/x-python",
   "name": "python",
   "nbconvert_exporter": "python",
   "pygments_lexer": "ipython3",
   "version": "3.8.3"
  }
 },
 "nbformat": 4,
 "nbformat_minor": 4
}
